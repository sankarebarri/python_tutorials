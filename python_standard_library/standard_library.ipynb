{
 "cells": [
  {
   "cell_type": "markdown",
   "id": "ecb1bae4",
   "metadata": {},
   "source": [
    "## Introducing the Path class"
   ]
  },
  {
   "cell_type": "code",
   "execution_count": 1,
   "id": "59d4cdfd",
   "metadata": {},
   "outputs": [],
   "source": [
    "from pathlib import Path"
   ]
  },
  {
   "cell_type": "code",
   "execution_count": 2,
   "id": "ee2b3c99",
   "metadata": {},
   "outputs": [
    {
     "data": {
      "text/plain": [
       "WindowsPath('.')"
      ]
     },
     "execution_count": 2,
     "metadata": {},
     "output_type": "execute_result"
    }
   ],
   "source": [
    "cwd_path = Path('.')\n",
    "cwd_path"
   ]
  },
  {
   "cell_type": "code",
   "execution_count": 3,
   "id": "25802ce6",
   "metadata": {},
   "outputs": [
    {
     "data": {
      "text/plain": [
       "WindowsPath('C:/Users/sanka/Desktop/ADN_PAYSANS/python_tutorials/python_standard_library')"
      ]
     },
     "execution_count": 3,
     "metadata": {},
     "output_type": "execute_result"
    }
   ],
   "source": [
    "cwd_path.absolute()"
   ]
  },
  {
   "cell_type": "code",
   "execution_count": 4,
   "id": "f357edef",
   "metadata": {},
   "outputs": [
    {
     "data": {
      "text/plain": [
       "WindowsPath('C:/Users/sanka/Desktop/ADN_PAYSANS/python_tutorials/python_standard_library')"
      ]
     },
     "execution_count": 4,
     "metadata": {},
     "output_type": "execute_result"
    }
   ],
   "source": [
    "Path.cwd()"
   ]
  },
  {
   "cell_type": "markdown",
   "id": "0e50dad9",
   "metadata": {},
   "source": [
    "## Building paths"
   ]
  },
  {
   "cell_type": "code",
   "execution_count": 5,
   "id": "f1500716",
   "metadata": {},
   "outputs": [
    {
     "data": {
      "text/plain": [
       "WindowsPath('data/student-data')"
      ]
     },
     "execution_count": 5,
     "metadata": {},
     "output_type": "execute_result"
    }
   ],
   "source": [
    "student_folder = cwd_path.joinpath('data').joinpath('student-data')\n",
    "student_folder"
   ]
  },
  {
   "cell_type": "code",
   "execution_count": 6,
   "id": "8586a3a6",
   "metadata": {},
   "outputs": [
    {
     "data": {
      "text/plain": [
       "WindowsPath('data/student-data')"
      ]
     },
     "execution_count": 6,
     "metadata": {},
     "output_type": "execute_result"
    }
   ],
   "source": [
    "# same uisng / operator\n",
    "student_folder = cwd_path / 'data' / 'student-data'\n",
    "\n",
    "# same using string\n",
    "student_folder = Path('./data/student-data')\n",
    "student_folder"
   ]
  },
  {
   "cell_type": "code",
   "execution_count": 7,
   "id": "3636f147",
   "metadata": {},
   "outputs": [],
   "source": [
    "student_data_path = student_folder / 'data.json'"
   ]
  },
  {
   "cell_type": "code",
   "execution_count": 8,
   "id": "e11dda24",
   "metadata": {},
   "outputs": [
    {
     "data": {
      "text/plain": [
       "WindowsPath('data/student-data/data.json')"
      ]
     },
     "execution_count": 8,
     "metadata": {},
     "output_type": "execute_result"
    }
   ],
   "source": [
    "student_data_path"
   ]
  },
  {
   "cell_type": "markdown",
   "id": "6e3468c8",
   "metadata": {},
   "source": [
    "## File parts and parents"
   ]
  },
  {
   "cell_type": "code",
   "execution_count": 9,
   "id": "26c31666",
   "metadata": {},
   "outputs": [
    {
     "data": {
      "text/plain": [
       "'data.json'"
      ]
     },
     "execution_count": 9,
     "metadata": {},
     "output_type": "execute_result"
    }
   ],
   "source": [
    "student_data_path.name"
   ]
  },
  {
   "cell_type": "code",
   "execution_count": 10,
   "id": "d8955dbc",
   "metadata": {},
   "outputs": [
    {
     "data": {
      "text/plain": [
       "'data'"
      ]
     },
     "execution_count": 10,
     "metadata": {},
     "output_type": "execute_result"
    }
   ],
   "source": [
    "student_data_path.stem"
   ]
  },
  {
   "cell_type": "code",
   "execution_count": 11,
   "id": "2d7f9974",
   "metadata": {},
   "outputs": [
    {
     "data": {
      "text/plain": [
       "'.json'"
      ]
     },
     "execution_count": 11,
     "metadata": {},
     "output_type": "execute_result"
    }
   ],
   "source": [
    "student_data_path.suffix"
   ]
  },
  {
   "cell_type": "code",
   "execution_count": 12,
   "id": "23833906",
   "metadata": {},
   "outputs": [
    {
     "data": {
      "text/plain": [
       "('data', 'student-data', 'data.json')"
      ]
     },
     "execution_count": 12,
     "metadata": {},
     "output_type": "execute_result"
    }
   ],
   "source": [
    "student_data_path.parts"
   ]
  },
  {
   "cell_type": "code",
   "execution_count": 13,
   "id": "23a1f50e",
   "metadata": {},
   "outputs": [
    {
     "name": "stdout",
     "output_type": "stream",
     "text": [
      "data\\student-data\\data.json\n"
     ]
    }
   ],
   "source": [
    "print(student_data_path)"
   ]
  },
  {
   "cell_type": "code",
   "execution_count": 14,
   "id": "b4c7e4c8",
   "metadata": {},
   "outputs": [
    {
     "data": {
      "text/plain": [
       "WindowsPath('C:/Users/sanka/Desktop/ADN_PAYSANS/python_tutorials/python_standard_library/data/student-data/data.json')"
      ]
     },
     "execution_count": 14,
     "metadata": {},
     "output_type": "execute_result"
    }
   ],
   "source": [
    "student_data_path.absolute()"
   ]
  },
  {
   "cell_type": "code",
   "execution_count": 15,
   "id": "2a4a4289",
   "metadata": {},
   "outputs": [
    {
     "name": "stdout",
     "output_type": "stream",
     "text": [
      "C:\\Users\\sanka\\Desktop\\ADN_PAYSANS\\python_tutorials\\python_standard_library\\data\\student-data\\data.json\n"
     ]
    }
   ],
   "source": [
    "print(student_data_path.absolute())"
   ]
  },
  {
   "cell_type": "code",
   "execution_count": 16,
   "id": "64bd9a44",
   "metadata": {},
   "outputs": [
    {
     "data": {
      "text/plain": [
       "WindowsPath('data/student-data')"
      ]
     },
     "execution_count": 16,
     "metadata": {},
     "output_type": "execute_result"
    }
   ],
   "source": [
    "student_data_path.parent"
   ]
  },
  {
   "cell_type": "code",
   "execution_count": 17,
   "id": "01c9d1e3",
   "metadata": {},
   "outputs": [
    {
     "data": {
      "text/plain": [
       "WindowsPath('data')"
      ]
     },
     "execution_count": 17,
     "metadata": {},
     "output_type": "execute_result"
    }
   ],
   "source": [
    "# As the parent returns a Path instance\n",
    "# we can call parent on that too\n",
    "student_data_path.parent.parent"
   ]
  },
  {
   "cell_type": "code",
   "execution_count": 18,
   "id": "e45c4a34",
   "metadata": {},
   "outputs": [
    {
     "data": {
      "text/plain": [
       "WindowsPath('.')"
      ]
     },
     "execution_count": 18,
     "metadata": {},
     "output_type": "execute_result"
    }
   ],
   "source": [
    "student_data_path.parent.parent.parent"
   ]
  },
  {
   "cell_type": "code",
   "execution_count": 19,
   "id": "428b4a27",
   "metadata": {},
   "outputs": [
    {
     "data": {
      "text/plain": [
       "WindowsPath('.')"
      ]
     },
     "execution_count": 19,
     "metadata": {},
     "output_type": "execute_result"
    }
   ],
   "source": [
    "student_data_path.parent.parent.parent.parent"
   ]
  },
  {
   "cell_type": "markdown",
   "id": "da198f44",
   "metadata": {},
   "source": [
    "## Changing the name, stem or file extension"
   ]
  },
  {
   "cell_type": "code",
   "execution_count": 20,
   "id": "ac97d7bc",
   "metadata": {},
   "outputs": [
    {
     "data": {
      "text/plain": [
       "WindowsPath('data/student-data/data.json')"
      ]
     },
     "execution_count": 20,
     "metadata": {},
     "output_type": "execute_result"
    }
   ],
   "source": [
    "student_data_path"
   ]
  },
  {
   "cell_type": "code",
   "execution_count": 21,
   "id": "a4e47f62",
   "metadata": {},
   "outputs": [
    {
     "data": {
      "text/plain": [
       "WindowsPath('data/student-data/data.py')"
      ]
     },
     "execution_count": 21,
     "metadata": {},
     "output_type": "execute_result"
    }
   ],
   "source": [
    "# replace .json with .py\n",
    "student_data_path.with_suffix('.py')"
   ]
  },
  {
   "cell_type": "code",
   "execution_count": 22,
   "id": "0e402be2",
   "metadata": {},
   "outputs": [
    {
     "data": {
      "text/plain": [
       "WindowsPath('data/student-data/student_data.txt')"
      ]
     },
     "execution_count": 22,
     "metadata": {},
     "output_type": "execute_result"
    }
   ],
   "source": [
    "# replace data.py with student_data.txt\n",
    "student_data_path.with_name('student_data.txt')"
   ]
  },
  {
   "cell_type": "code",
   "execution_count": 23,
   "id": "624af803",
   "metadata": {},
   "outputs": [
    {
     "data": {
      "text/plain": [
       "WindowsPath('data/student-data/numbers.xlsx')"
      ]
     },
     "execution_count": 23,
     "metadata": {},
     "output_type": "execute_result"
    }
   ],
   "source": [
    "# we can chain calls\n",
    "student_data_path.with_name('numbers').with_suffix('.xlsx')"
   ]
  },
  {
   "cell_type": "markdown",
   "id": "354eee9d",
   "metadata": {},
   "source": [
    "## Interacting with the files, reading, writing, and renaming"
   ]
  },
  {
   "cell_type": "code",
   "execution_count": 24,
   "id": "7a70b63d",
   "metadata": {},
   "outputs": [
    {
     "data": {
      "text/plain": [
       "True"
      ]
     },
     "execution_count": 24,
     "metadata": {},
     "output_type": "execute_result"
    }
   ],
   "source": [
    "student_data_path.exists()"
   ]
  },
  {
   "cell_type": "code",
   "execution_count": 25,
   "id": "622ac8fc",
   "metadata": {},
   "outputs": [
    {
     "data": {
      "text/plain": [
       "(True, False)"
      ]
     },
     "execution_count": 25,
     "metadata": {},
     "output_type": "execute_result"
    }
   ],
   "source": [
    "# is_file checks if this path exists and is a file\n",
    "# is_dir checks if this path exists and is a directory\n",
    "student_data_path.is_file(), student_data_path.is_dir()"
   ]
  },
  {
   "cell_type": "code",
   "execution_count": 26,
   "id": "5d42cccc",
   "metadata": {},
   "outputs": [
    {
     "data": {
      "text/plain": [
       "WindowsPath('data/student-data')"
      ]
     },
     "execution_count": 26,
     "metadata": {},
     "output_type": "execute_result"
    }
   ],
   "source": [
    "student_data_folder = student_data_path.parent\n",
    "student_data_folder"
   ]
  },
  {
   "cell_type": "code",
   "execution_count": 27,
   "id": "62aa65fb",
   "metadata": {},
   "outputs": [
    {
     "data": {
      "text/plain": [
       "True"
      ]
     },
     "execution_count": 27,
     "metadata": {},
     "output_type": "execute_result"
    }
   ],
   "source": [
    "student_data_folder.exists()"
   ]
  },
  {
   "cell_type": "code",
   "execution_count": 28,
   "id": "6f105eb8",
   "metadata": {},
   "outputs": [
    {
     "ename": "FileExistsError",
     "evalue": "[WinError 183] Cannot create a file when that file already exists: 'data\\\\student-data'",
     "output_type": "error",
     "traceback": [
      "\u001b[1;31m---------------------------------------------------------------------------\u001b[0m",
      "\u001b[1;31mFileExistsError\u001b[0m                           Traceback (most recent call last)",
      "\u001b[1;32m~\\AppData\\Local\\Temp\\ipykernel_6956\\2347645944.py\u001b[0m in \u001b[0;36m<module>\u001b[1;34m\u001b[0m\n\u001b[0;32m      1\u001b[0m \u001b[1;31m# this will throw an error because student_data_folder doesn't exist\u001b[0m\u001b[1;33m\u001b[0m\u001b[1;33m\u001b[0m\u001b[0m\n\u001b[1;32m----> 2\u001b[1;33m \u001b[0mstudent_data_folder\u001b[0m\u001b[1;33m.\u001b[0m\u001b[0mmkdir\u001b[0m\u001b[1;33m(\u001b[0m\u001b[1;33m)\u001b[0m\u001b[1;33m\u001b[0m\u001b[1;33m\u001b[0m\u001b[0m\n\u001b[0m",
      "\u001b[1;32m~\\anaconda3\\lib\\pathlib.py\u001b[0m in \u001b[0;36mmkdir\u001b[1;34m(self, mode, parents, exist_ok)\u001b[0m\n\u001b[0;32m   1321\u001b[0m         \"\"\"\n\u001b[0;32m   1322\u001b[0m         \u001b[1;32mtry\u001b[0m\u001b[1;33m:\u001b[0m\u001b[1;33m\u001b[0m\u001b[1;33m\u001b[0m\u001b[0m\n\u001b[1;32m-> 1323\u001b[1;33m             \u001b[0mself\u001b[0m\u001b[1;33m.\u001b[0m\u001b[0m_accessor\u001b[0m\u001b[1;33m.\u001b[0m\u001b[0mmkdir\u001b[0m\u001b[1;33m(\u001b[0m\u001b[0mself\u001b[0m\u001b[1;33m,\u001b[0m \u001b[0mmode\u001b[0m\u001b[1;33m)\u001b[0m\u001b[1;33m\u001b[0m\u001b[1;33m\u001b[0m\u001b[0m\n\u001b[0m\u001b[0;32m   1324\u001b[0m         \u001b[1;32mexcept\u001b[0m \u001b[0mFileNotFoundError\u001b[0m\u001b[1;33m:\u001b[0m\u001b[1;33m\u001b[0m\u001b[1;33m\u001b[0m\u001b[0m\n\u001b[0;32m   1325\u001b[0m             \u001b[1;32mif\u001b[0m \u001b[1;32mnot\u001b[0m \u001b[0mparents\u001b[0m \u001b[1;32mor\u001b[0m \u001b[0mself\u001b[0m\u001b[1;33m.\u001b[0m\u001b[0mparent\u001b[0m \u001b[1;33m==\u001b[0m \u001b[0mself\u001b[0m\u001b[1;33m:\u001b[0m\u001b[1;33m\u001b[0m\u001b[1;33m\u001b[0m\u001b[0m\n",
      "\u001b[1;31mFileExistsError\u001b[0m: [WinError 183] Cannot create a file when that file already exists: 'data\\\\student-data'"
     ]
    }
   ],
   "source": [
    "# this will throw an error because student_data_folder doesn't exist\n",
    "student_data_folder.mkdir()"
   ]
  },
  {
   "cell_type": "code",
   "execution_count": 29,
   "id": "33cb94b5",
   "metadata": {},
   "outputs": [],
   "source": [
    "# parents=True will make parents if it doesn't exists\n",
    "# exists_ok = True will not fail if the folder already exists\n",
    "student_data_folder.mkdir(parents=True, exist_ok=True)"
   ]
  },
  {
   "cell_type": "code",
   "execution_count": 30,
   "id": "6678842f",
   "metadata": {},
   "outputs": [
    {
     "data": {
      "text/plain": [
       "True"
      ]
     },
     "execution_count": 30,
     "metadata": {},
     "output_type": "execute_result"
    }
   ],
   "source": [
    "student_data_folder.exists()"
   ]
  },
  {
   "cell_type": "code",
   "execution_count": 31,
   "id": "64595775",
   "metadata": {},
   "outputs": [
    {
     "data": {
      "text/plain": [
       "True"
      ]
     },
     "execution_count": 31,
     "metadata": {},
     "output_type": "execute_result"
    }
   ],
   "source": [
    "student_data_path.exists()"
   ]
  },
  {
   "cell_type": "code",
   "execution_count": 32,
   "id": "971006c1",
   "metadata": {},
   "outputs": [],
   "source": [
    "student_data = [\n",
    "    {\n",
    "        \"name\": \"John Smith\",\n",
    "        \"age\": 38,\n",
    "        \"on_vacation\": False,\n",
    "        \"test_scores\": [33, 55, 66, 88, 96]\n",
    "    },\n",
    "    {\n",
    "        \"name\": \"Ashley Doe\",\n",
    "        \"age\": 38,\n",
    "        \"on_vacation\": False,\n",
    "        \"test_scores\": [98, 14, 25, 35, 69]\n",
    "    },\n",
    "    {\n",
    "        \"name\": \"Bull Smith\",\n",
    "        \"age\": 86,\n",
    "        \"on_vacation\": True,\n",
    "        \"test_scores\": [96, 75, 25, 36, 65]\n",
    "    }\n",
    "]"
   ]
  },
  {
   "cell_type": "code",
   "execution_count": 33,
   "id": "bd8cd192",
   "metadata": {},
   "outputs": [
    {
     "data": {
      "text/plain": [
       "619"
      ]
     },
     "execution_count": 33,
     "metadata": {},
     "output_type": "execute_result"
    }
   ],
   "source": [
    "import json # to convert dict to json string\n",
    "student_data_path.write_text(json.dumps(student_data, indent=4))"
   ]
  },
  {
   "cell_type": "code",
   "execution_count": 34,
   "id": "470cac65",
   "metadata": {},
   "outputs": [
    {
     "name": "stdout",
     "output_type": "stream",
     "text": [
      "[\n",
      "    {\n",
      "        \"name\": \"John Smith\",\n",
      "        \"age\": 38,\n",
      "        \"on_vacation\": false,\n",
      "        \"test_scores\": [\n",
      "            33,\n",
      "            55,\n",
      "            66,\n",
      "            88,\n",
      "            96\n",
      "        ]\n",
      "    },\n",
      "    {\n",
      "        \"name\": \"Ashley Doe\",\n",
      "        \"age\": 38,\n",
      "        \"on_vacation\": false,\n",
      "        \"test_scores\": [\n",
      "            98,\n",
      "            14,\n",
      "            25,\n",
      "            35,\n",
      "            69\n",
      "        ]\n",
      "    },\n",
      "    {\n",
      "        \"name\": \"Bull Smith\",\n",
      "        \"age\": 86,\n",
      "        \"on_vacation\": true,\n",
      "        \"test_scores\": [\n",
      "            96,\n",
      "            75,\n",
      "            25,\n",
      "            36,\n",
      "            65\n",
      "        ]\n",
      "    }\n",
      "]\n"
     ]
    }
   ],
   "source": [
    "print(student_data_path.read_text())"
   ]
  },
  {
   "cell_type": "markdown",
   "id": "d4e42090",
   "metadata": {},
   "source": [
    "## Renaming files"
   ]
  },
  {
   "cell_type": "code",
   "execution_count": 36,
   "id": "72655d6a",
   "metadata": {},
   "outputs": [
    {
     "data": {
      "text/plain": [
       "WindowsPath('data/new_location.txt')"
      ]
     },
     "execution_count": 36,
     "metadata": {},
     "output_type": "execute_result"
    }
   ],
   "source": [
    "moved_file_location = student_data_path.parent.parent / 'new_location.txt'\n",
    "moved_file_location"
   ]
  },
  {
   "cell_type": "code",
   "execution_count": 37,
   "id": "bc1cd258",
   "metadata": {},
   "outputs": [
    {
     "data": {
      "text/plain": [
       "False"
      ]
     },
     "execution_count": 37,
     "metadata": {},
     "output_type": "execute_result"
    }
   ],
   "source": [
    "moved_file_location.exists()"
   ]
  },
  {
   "cell_type": "code",
   "execution_count": 38,
   "id": "6c2e3d83",
   "metadata": {},
   "outputs": [],
   "source": [
    "# NO WARNING: if overwritng. So becareful\n",
    "if not moved_file_location.exists():\n",
    "    student_data_path.rename(moved_file_location)"
   ]
  },
  {
   "cell_type": "code",
   "execution_count": 39,
   "id": "9dc71e8b",
   "metadata": {},
   "outputs": [
    {
     "data": {
      "text/plain": [
       "True"
      ]
     },
     "execution_count": 39,
     "metadata": {},
     "output_type": "execute_result"
    }
   ],
   "source": [
    "moved_file_location.exists()"
   ]
  },
  {
   "cell_type": "markdown",
   "id": "e925261e",
   "metadata": {},
   "source": [
    "## Deleting Dirs and Files"
   ]
  },
  {
   "cell_type": "code",
   "execution_count": 41,
   "id": "447ea37a",
   "metadata": {},
   "outputs": [],
   "source": [
    "# unlink - deletes a file. The missing_ok ensures no error if the file doesn't exist\n",
    "if student_data_path.exists():\n",
    "    student_data_path.unlink()\n",
    "if moved_file_location.exists():\n",
    "    moved_file_location.unlink()"
   ]
  },
  {
   "cell_type": "code",
   "execution_count": 43,
   "id": "699fc807",
   "metadata": {},
   "outputs": [],
   "source": [
    "# Remove an empty directory\n",
    "if student_data_folder.is_dir():\n",
    "    student_data_folder.rmdir()\n",
    "if student_data_folder.parent.is_dir():\n",
    "    student_data_folder.parent.rmdir()"
   ]
  },
  {
   "cell_type": "code",
   "execution_count": 44,
   "id": "15a73e6e",
   "metadata": {},
   "outputs": [
    {
     "data": {
      "text/plain": [
       "619"
      ]
     },
     "execution_count": 44,
     "metadata": {},
     "output_type": "execute_result"
    }
   ],
   "source": [
    "# Recreate the deleted because we still need them in this lesson\n",
    "student_data_folder.mkdir(parents=True, exist_ok=True)\n",
    "student_data_path.write_text(json.dumps(student_data, indent=4))"
   ]
  },
  {
   "cell_type": "markdown",
   "id": "bee559c3",
   "metadata": {},
   "source": [
    "## iterating on a dir"
   ]
  },
  {
   "cell_type": "code",
   "execution_count": 45,
   "id": "8191e1e0",
   "metadata": {},
   "outputs": [
    {
     "data": {
      "text/plain": [
       "[WindowsPath('.ipynb_checkpoints'),\n",
       " WindowsPath('data'),\n",
       " WindowsPath('standard_library.ipynb')]"
      ]
     },
     "execution_count": 45,
     "metadata": {},
     "output_type": "execute_result"
    }
   ],
   "source": [
    "list(cwd_path.iterdir())"
   ]
  },
  {
   "cell_type": "code",
   "execution_count": 51,
   "id": "eb2784c7",
   "metadata": {},
   "outputs": [],
   "source": [
    "# we can do pattern matching using glob\n",
    "txt_path = [path for path in cwd_path.glob('**/*.txt')]"
   ]
  },
  {
   "cell_type": "code",
   "execution_count": 54,
   "id": "d50d08ab",
   "metadata": {},
   "outputs": [
    {
     "name": "stdout",
     "output_type": "stream",
     "text": [
      "file1.txt\n",
      "file2.txt\n",
      "data\\student-data\\file3.txt\n",
      "data\\student-data\\file4.txt\n"
     ]
    }
   ],
   "source": [
    "for i in txt_path:\n",
    "    print(i)"
   ]
  },
  {
   "cell_type": "markdown",
   "id": "77f1275b",
   "metadata": {},
   "source": [
    "## Chalenge 1\n",
    "#### Code a function to replace the file endings of all .txt files to .md within the cwd"
   ]
  },
  {
   "cell_type": "code",
   "execution_count": 62,
   "id": "bb114e9b",
   "metadata": {},
   "outputs": [],
   "source": [
    "def replace_all_txt_with_md():\n",
    "    '''Replace .txt suffix with .md in cwd'''\n",
    "    for file_path in Path.cwd().glob('**/*.md'):\n",
    "        print(file_path)\n",
    "        file_path.rename(file_path.with_suffix(\".md\"))\n",
    "        print(file_path)"
   ]
  },
  {
   "cell_type": "code",
   "execution_count": 63,
   "id": "06af9504",
   "metadata": {},
   "outputs": [],
   "source": [
    "# test the solution by\n",
    "# 1. writing .txt file\n",
    "# 2. running the function\n",
    "# 3. check if the file ending changed\n",
    "replace_all_txt_with_md()"
   ]
  },
  {
   "cell_type": "code",
   "execution_count": null,
   "id": "e5bdd3d3",
   "metadata": {},
   "outputs": [],
   "source": []
  }
 ],
 "metadata": {
  "kernelspec": {
   "display_name": "Python 3 (ipykernel)",
   "language": "python",
   "name": "python3"
  },
  "language_info": {
   "codemirror_mode": {
    "name": "ipython",
    "version": 3
   },
   "file_extension": ".py",
   "mimetype": "text/x-python",
   "name": "python",
   "nbconvert_exporter": "python",
   "pygments_lexer": "ipython3",
   "version": "3.9.13"
  }
 },
 "nbformat": 4,
 "nbformat_minor": 5
}
