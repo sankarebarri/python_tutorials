{
 "cells": [
  {
   "cell_type": "markdown",
   "id": "f5eb994f",
   "metadata": {},
   "source": [
    "## Introducing the Path class"
   ]
  },
  {
   "cell_type": "code",
   "execution_count": 1,
   "id": "eeb7689a",
   "metadata": {},
   "outputs": [],
   "source": [
    "from pathlib import Path"
   ]
  },
  {
   "cell_type": "code",
   "execution_count": 2,
   "id": "8f740078",
   "metadata": {},
   "outputs": [
    {
     "data": {
      "text/plain": [
       "WindowsPath('.')"
      ]
     },
     "execution_count": 2,
     "metadata": {},
     "output_type": "execute_result"
    }
   ],
   "source": [
    "cwd_path = Path('.')\n",
    "cwd_path"
   ]
  },
  {
   "cell_type": "code",
   "execution_count": 3,
   "id": "1f697b20",
   "metadata": {},
   "outputs": [
    {
     "data": {
      "text/plain": [
       "WindowsPath('C:/Users/sanka/Desktop/ADN_PAYSANS/python_tutorials/python_standard_library')"
      ]
     },
     "execution_count": 3,
     "metadata": {},
     "output_type": "execute_result"
    }
   ],
   "source": [
    "cwd_path.absolute()"
   ]
  },
  {
   "cell_type": "code",
   "execution_count": 4,
   "id": "a537d195",
   "metadata": {},
   "outputs": [
    {
     "data": {
      "text/plain": [
       "WindowsPath('C:/Users/sanka/Desktop/ADN_PAYSANS/python_tutorials/python_standard_library')"
      ]
     },
     "execution_count": 4,
     "metadata": {},
     "output_type": "execute_result"
    }
   ],
   "source": [
    "Path.cwd()"
   ]
  },
  {
   "cell_type": "markdown",
   "id": "1784d657",
   "metadata": {},
   "source": [
    "## Building paths"
   ]
  },
  {
   "cell_type": "code",
   "execution_count": 5,
   "id": "3eeebb9a",
   "metadata": {},
   "outputs": [
    {
     "data": {
      "text/plain": [
       "WindowsPath('data/student-data')"
      ]
     },
     "execution_count": 5,
     "metadata": {},
     "output_type": "execute_result"
    }
   ],
   "source": [
    "student_folder = cwd_path.joinpath('data').joinpath('student-data')\n",
    "student_folder"
   ]
  },
  {
   "cell_type": "code",
   "execution_count": 6,
   "id": "12cbc22d",
   "metadata": {},
   "outputs": [
    {
     "data": {
      "text/plain": [
       "WindowsPath('data/student-data')"
      ]
     },
     "execution_count": 6,
     "metadata": {},
     "output_type": "execute_result"
    }
   ],
   "source": [
    "# same uisng / operator\n",
    "student_folder = cwd_path / 'data' / 'student-data'\n",
    "\n",
    "# same using string\n",
    "student_folder = Path('./data/student-data')\n",
    "student_folder"
   ]
  },
  {
   "cell_type": "code",
   "execution_count": 7,
   "id": "462aa45d",
   "metadata": {},
   "outputs": [],
   "source": [
    "student_data_path = student_folder / 'data.json'"
   ]
  },
  {
   "cell_type": "code",
   "execution_count": 8,
   "id": "06401975",
   "metadata": {},
   "outputs": [
    {
     "data": {
      "text/plain": [
       "WindowsPath('data/student-data/data.json')"
      ]
     },
     "execution_count": 8,
     "metadata": {},
     "output_type": "execute_result"
    }
   ],
   "source": [
    "student_data_path"
   ]
  },
  {
   "cell_type": "code",
   "execution_count": null,
   "id": "2697e3ee",
   "metadata": {},
   "outputs": [],
   "source": []
  }
 ],
 "metadata": {
  "kernelspec": {
   "display_name": "Python 3 (ipykernel)",
   "language": "python",
   "name": "python3"
  },
  "language_info": {
   "codemirror_mode": {
    "name": "ipython",
    "version": 3
   },
   "file_extension": ".py",
   "mimetype": "text/x-python",
   "name": "python",
   "nbconvert_exporter": "python",
   "pygments_lexer": "ipython3",
   "version": "3.9.13"
  }
 },
 "nbformat": 4,
 "nbformat_minor": 5
}
