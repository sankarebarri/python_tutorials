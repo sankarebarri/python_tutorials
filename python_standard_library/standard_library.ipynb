{
 "cells": [
  {
   "cell_type": "markdown",
   "id": "ecb1bae4",
   "metadata": {},
   "source": [
    "## Introducing the Path class"
   ]
  },
  {
   "cell_type": "code",
   "execution_count": 1,
   "id": "59d4cdfd",
   "metadata": {},
   "outputs": [],
   "source": [
    "from pathlib import Path"
   ]
  },
  {
   "cell_type": "code",
   "execution_count": 2,
   "id": "ee2b3c99",
   "metadata": {},
   "outputs": [
    {
     "data": {
      "text/plain": [
       "WindowsPath('.')"
      ]
     },
     "execution_count": 2,
     "metadata": {},
     "output_type": "execute_result"
    }
   ],
   "source": [
    "cwd_path = Path('.')\n",
    "cwd_path"
   ]
  },
  {
   "cell_type": "code",
   "execution_count": 3,
   "id": "25802ce6",
   "metadata": {},
   "outputs": [
    {
     "data": {
      "text/plain": [
       "WindowsPath('C:/Users/sanka/Desktop/python_tutorials/python_standard_library')"
      ]
     },
     "execution_count": 3,
     "metadata": {},
     "output_type": "execute_result"
    }
   ],
   "source": [
    "cwd_path.absolute()"
   ]
  },
  {
   "cell_type": "code",
   "execution_count": 4,
   "id": "f357edef",
   "metadata": {},
   "outputs": [
    {
     "data": {
      "text/plain": [
       "WindowsPath('C:/Users/sanka/Desktop/python_tutorials/python_standard_library')"
      ]
     },
     "execution_count": 4,
     "metadata": {},
     "output_type": "execute_result"
    }
   ],
   "source": [
    "Path.cwd()"
   ]
  },
  {
   "cell_type": "markdown",
   "id": "0e50dad9",
   "metadata": {},
   "source": [
    "## Building paths"
   ]
  },
  {
   "cell_type": "code",
   "execution_count": 5,
   "id": "f1500716",
   "metadata": {},
   "outputs": [
    {
     "data": {
      "text/plain": [
       "WindowsPath('data/student-data')"
      ]
     },
     "execution_count": 5,
     "metadata": {},
     "output_type": "execute_result"
    }
   ],
   "source": [
    "student_folder = cwd_path.joinpath('data').joinpath('student-data')\n",
    "student_folder"
   ]
  },
  {
   "cell_type": "code",
   "execution_count": 6,
   "id": "8586a3a6",
   "metadata": {},
   "outputs": [
    {
     "data": {
      "text/plain": [
       "WindowsPath('data/student-data')"
      ]
     },
     "execution_count": 6,
     "metadata": {},
     "output_type": "execute_result"
    }
   ],
   "source": [
    "# same uisng / operator\n",
    "student_folder = cwd_path / 'data' / 'student-data'\n",
    "\n",
    "# same using string\n",
    "student_folder = Path('./data/student-data')\n",
    "student_folder"
   ]
  },
  {
   "cell_type": "code",
   "execution_count": 7,
   "id": "3636f147",
   "metadata": {},
   "outputs": [],
   "source": [
    "student_data_path = student_folder / 'data.json'"
   ]
  },
  {
   "cell_type": "code",
   "execution_count": 8,
   "id": "e11dda24",
   "metadata": {},
   "outputs": [
    {
     "data": {
      "text/plain": [
       "WindowsPath('data/student-data/data.json')"
      ]
     },
     "execution_count": 8,
     "metadata": {},
     "output_type": "execute_result"
    }
   ],
   "source": [
    "student_data_path"
   ]
  },
  {
   "cell_type": "markdown",
   "id": "6e3468c8",
   "metadata": {},
   "source": [
    "## File parts and parents"
   ]
  },
  {
   "cell_type": "code",
   "execution_count": 9,
   "id": "26c31666",
   "metadata": {},
   "outputs": [
    {
     "data": {
      "text/plain": [
       "'data.json'"
      ]
     },
     "execution_count": 9,
     "metadata": {},
     "output_type": "execute_result"
    }
   ],
   "source": [
    "student_data_path.name"
   ]
  },
  {
   "cell_type": "code",
   "execution_count": 10,
   "id": "d8955dbc",
   "metadata": {},
   "outputs": [
    {
     "data": {
      "text/plain": [
       "'data'"
      ]
     },
     "execution_count": 10,
     "metadata": {},
     "output_type": "execute_result"
    }
   ],
   "source": [
    "student_data_path.stem"
   ]
  },
  {
   "cell_type": "code",
   "execution_count": 11,
   "id": "2d7f9974",
   "metadata": {},
   "outputs": [
    {
     "data": {
      "text/plain": [
       "'.json'"
      ]
     },
     "execution_count": 11,
     "metadata": {},
     "output_type": "execute_result"
    }
   ],
   "source": [
    "student_data_path.suffix"
   ]
  },
  {
   "cell_type": "code",
   "execution_count": 12,
   "id": "23833906",
   "metadata": {},
   "outputs": [
    {
     "data": {
      "text/plain": [
       "('data', 'student-data', 'data.json')"
      ]
     },
     "execution_count": 12,
     "metadata": {},
     "output_type": "execute_result"
    }
   ],
   "source": [
    "student_data_path.parts"
   ]
  },
  {
   "cell_type": "code",
   "execution_count": 13,
   "id": "23a1f50e",
   "metadata": {},
   "outputs": [
    {
     "name": "stdout",
     "output_type": "stream",
     "text": [
      "data\\student-data\\data.json\n"
     ]
    }
   ],
   "source": [
    "print(student_data_path)"
   ]
  },
  {
   "cell_type": "code",
   "execution_count": 14,
   "id": "b4c7e4c8",
   "metadata": {},
   "outputs": [
    {
     "data": {
      "text/plain": [
       "WindowsPath('C:/Users/sanka/Desktop/python_tutorials/python_standard_library/data/student-data/data.json')"
      ]
     },
     "execution_count": 14,
     "metadata": {},
     "output_type": "execute_result"
    }
   ],
   "source": [
    "student_data_path.absolute()"
   ]
  },
  {
   "cell_type": "code",
   "execution_count": 15,
   "id": "2a4a4289",
   "metadata": {},
   "outputs": [
    {
     "name": "stdout",
     "output_type": "stream",
     "text": [
      "C:\\Users\\sanka\\Desktop\\python_tutorials\\python_standard_library\\data\\student-data\\data.json\n"
     ]
    }
   ],
   "source": [
    "print(student_data_path.absolute())"
   ]
  },
  {
   "cell_type": "code",
   "execution_count": 16,
   "id": "64bd9a44",
   "metadata": {},
   "outputs": [
    {
     "data": {
      "text/plain": [
       "WindowsPath('data/student-data')"
      ]
     },
     "execution_count": 16,
     "metadata": {},
     "output_type": "execute_result"
    }
   ],
   "source": [
    "student_data_path.parent"
   ]
  },
  {
   "cell_type": "code",
   "execution_count": 17,
   "id": "01c9d1e3",
   "metadata": {},
   "outputs": [
    {
     "data": {
      "text/plain": [
       "WindowsPath('data')"
      ]
     },
     "execution_count": 17,
     "metadata": {},
     "output_type": "execute_result"
    }
   ],
   "source": [
    "# As the parent returns a Path instance\n",
    "# we can call parent on that too\n",
    "student_data_path.parent.parent"
   ]
  },
  {
   "cell_type": "code",
   "execution_count": 18,
   "id": "e45c4a34",
   "metadata": {},
   "outputs": [
    {
     "data": {
      "text/plain": [
       "WindowsPath('.')"
      ]
     },
     "execution_count": 18,
     "metadata": {},
     "output_type": "execute_result"
    }
   ],
   "source": [
    "student_data_path.parent.parent.parent"
   ]
  },
  {
   "cell_type": "code",
   "execution_count": 19,
   "id": "428b4a27",
   "metadata": {},
   "outputs": [
    {
     "data": {
      "text/plain": [
       "WindowsPath('.')"
      ]
     },
     "execution_count": 19,
     "metadata": {},
     "output_type": "execute_result"
    }
   ],
   "source": [
    "student_data_path.parent.parent.parent.parent"
   ]
  },
  {
   "cell_type": "markdown",
   "id": "da198f44",
   "metadata": {},
   "source": [
    "## Changing the name, stem or file extension"
   ]
  },
  {
   "cell_type": "code",
   "execution_count": 20,
   "id": "ac97d7bc",
   "metadata": {},
   "outputs": [
    {
     "data": {
      "text/plain": [
       "WindowsPath('data/student-data/data.json')"
      ]
     },
     "execution_count": 20,
     "metadata": {},
     "output_type": "execute_result"
    }
   ],
   "source": [
    "student_data_path"
   ]
  },
  {
   "cell_type": "code",
   "execution_count": 21,
   "id": "a4e47f62",
   "metadata": {},
   "outputs": [
    {
     "data": {
      "text/plain": [
       "WindowsPath('data/student-data/data.py')"
      ]
     },
     "execution_count": 21,
     "metadata": {},
     "output_type": "execute_result"
    }
   ],
   "source": [
    "# replace .json with .py\n",
    "student_data_path.with_suffix('.py')"
   ]
  },
  {
   "cell_type": "code",
   "execution_count": 22,
   "id": "0e402be2",
   "metadata": {},
   "outputs": [
    {
     "data": {
      "text/plain": [
       "WindowsPath('data/student-data/student_data.txt')"
      ]
     },
     "execution_count": 22,
     "metadata": {},
     "output_type": "execute_result"
    }
   ],
   "source": [
    "# replace data.py with student_data.txt\n",
    "student_data_path.with_name('student_data.txt')"
   ]
  },
  {
   "cell_type": "code",
   "execution_count": 23,
   "id": "624af803",
   "metadata": {},
   "outputs": [
    {
     "data": {
      "text/plain": [
       "WindowsPath('data/student-data/numbers.xlsx')"
      ]
     },
     "execution_count": 23,
     "metadata": {},
     "output_type": "execute_result"
    }
   ],
   "source": [
    "# we can chain calls\n",
    "student_data_path.with_name('numbers').with_suffix('.xlsx')"
   ]
  },
  {
   "cell_type": "markdown",
   "id": "354eee9d",
   "metadata": {},
   "source": [
    "## Interacting with the files, reading, writing, and renaming"
   ]
  },
  {
   "cell_type": "code",
   "execution_count": 24,
   "id": "7a70b63d",
   "metadata": {},
   "outputs": [
    {
     "data": {
      "text/plain": [
       "True"
      ]
     },
     "execution_count": 24,
     "metadata": {},
     "output_type": "execute_result"
    }
   ],
   "source": [
    "student_data_path.exists()"
   ]
  },
  {
   "cell_type": "code",
   "execution_count": 25,
   "id": "622ac8fc",
   "metadata": {},
   "outputs": [
    {
     "data": {
      "text/plain": [
       "(True, False)"
      ]
     },
     "execution_count": 25,
     "metadata": {},
     "output_type": "execute_result"
    }
   ],
   "source": [
    "# is_file checks if this path exists and is a file\n",
    "# is_dir checks if this path exists and is a directory\n",
    "student_data_path.is_file(), student_data_path.is_dir()"
   ]
  },
  {
   "cell_type": "code",
   "execution_count": 26,
   "id": "5d42cccc",
   "metadata": {},
   "outputs": [
    {
     "data": {
      "text/plain": [
       "WindowsPath('data/student-data')"
      ]
     },
     "execution_count": 26,
     "metadata": {},
     "output_type": "execute_result"
    }
   ],
   "source": [
    "student_data_folder = student_data_path.parent\n",
    "student_data_folder"
   ]
  },
  {
   "cell_type": "code",
   "execution_count": 27,
   "id": "62aa65fb",
   "metadata": {},
   "outputs": [
    {
     "data": {
      "text/plain": [
       "True"
      ]
     },
     "execution_count": 27,
     "metadata": {},
     "output_type": "execute_result"
    }
   ],
   "source": [
    "student_data_folder.exists()"
   ]
  },
  {
   "cell_type": "code",
   "execution_count": 28,
   "id": "6f105eb8",
   "metadata": {},
   "outputs": [
    {
     "ename": "FileExistsError",
     "evalue": "[WinError 183] Cannot create a file when that file already exists: 'data\\\\student-data'",
     "output_type": "error",
     "traceback": [
      "\u001b[1;31m---------------------------------------------------------------------------\u001b[0m",
      "\u001b[1;31mFileExistsError\u001b[0m                           Traceback (most recent call last)",
      "\u001b[1;32m~\\AppData\\Local\\Temp\\ipykernel_12292\\2347645944.py\u001b[0m in \u001b[0;36m<module>\u001b[1;34m\u001b[0m\n\u001b[0;32m      1\u001b[0m \u001b[1;31m# this will throw an error because student_data_folder doesn't exist\u001b[0m\u001b[1;33m\u001b[0m\u001b[1;33m\u001b[0m\u001b[0m\n\u001b[1;32m----> 2\u001b[1;33m \u001b[0mstudent_data_folder\u001b[0m\u001b[1;33m.\u001b[0m\u001b[0mmkdir\u001b[0m\u001b[1;33m(\u001b[0m\u001b[1;33m)\u001b[0m\u001b[1;33m\u001b[0m\u001b[1;33m\u001b[0m\u001b[0m\n\u001b[0m",
      "\u001b[1;32m~\\anaconda3\\lib\\pathlib.py\u001b[0m in \u001b[0;36mmkdir\u001b[1;34m(self, mode, parents, exist_ok)\u001b[0m\n\u001b[0;32m   1321\u001b[0m         \"\"\"\n\u001b[0;32m   1322\u001b[0m         \u001b[1;32mtry\u001b[0m\u001b[1;33m:\u001b[0m\u001b[1;33m\u001b[0m\u001b[1;33m\u001b[0m\u001b[0m\n\u001b[1;32m-> 1323\u001b[1;33m             \u001b[0mself\u001b[0m\u001b[1;33m.\u001b[0m\u001b[0m_accessor\u001b[0m\u001b[1;33m.\u001b[0m\u001b[0mmkdir\u001b[0m\u001b[1;33m(\u001b[0m\u001b[0mself\u001b[0m\u001b[1;33m,\u001b[0m \u001b[0mmode\u001b[0m\u001b[1;33m)\u001b[0m\u001b[1;33m\u001b[0m\u001b[1;33m\u001b[0m\u001b[0m\n\u001b[0m\u001b[0;32m   1324\u001b[0m         \u001b[1;32mexcept\u001b[0m \u001b[0mFileNotFoundError\u001b[0m\u001b[1;33m:\u001b[0m\u001b[1;33m\u001b[0m\u001b[1;33m\u001b[0m\u001b[0m\n\u001b[0;32m   1325\u001b[0m             \u001b[1;32mif\u001b[0m \u001b[1;32mnot\u001b[0m \u001b[0mparents\u001b[0m \u001b[1;32mor\u001b[0m \u001b[0mself\u001b[0m\u001b[1;33m.\u001b[0m\u001b[0mparent\u001b[0m \u001b[1;33m==\u001b[0m \u001b[0mself\u001b[0m\u001b[1;33m:\u001b[0m\u001b[1;33m\u001b[0m\u001b[1;33m\u001b[0m\u001b[0m\n",
      "\u001b[1;31mFileExistsError\u001b[0m: [WinError 183] Cannot create a file when that file already exists: 'data\\\\student-data'"
     ]
    }
   ],
   "source": [
    "# this will throw an error because student_data_folder doesn't exist\n",
    "student_data_folder.mkdir()"
   ]
  },
  {
   "cell_type": "code",
   "execution_count": 29,
   "id": "33cb94b5",
   "metadata": {},
   "outputs": [],
   "source": [
    "# parents=True will make parents if it doesn't exists\n",
    "# exists_ok = True will not fail if the folder already exists\n",
    "student_data_folder.mkdir(parents=True, exist_ok=True)"
   ]
  },
  {
   "cell_type": "code",
   "execution_count": 30,
   "id": "6678842f",
   "metadata": {},
   "outputs": [
    {
     "data": {
      "text/plain": [
       "True"
      ]
     },
     "execution_count": 30,
     "metadata": {},
     "output_type": "execute_result"
    }
   ],
   "source": [
    "student_data_folder.exists()"
   ]
  },
  {
   "cell_type": "code",
   "execution_count": 31,
   "id": "64595775",
   "metadata": {},
   "outputs": [
    {
     "data": {
      "text/plain": [
       "True"
      ]
     },
     "execution_count": 31,
     "metadata": {},
     "output_type": "execute_result"
    }
   ],
   "source": [
    "student_data_path.exists()"
   ]
  },
  {
   "cell_type": "code",
   "execution_count": 32,
   "id": "971006c1",
   "metadata": {},
   "outputs": [],
   "source": [
    "student_data = [\n",
    "    {\n",
    "        \"name\": \"John Smith\",\n",
    "        \"age\": 38,\n",
    "        \"on_vacation\": False,\n",
    "        \"test_scores\": [33, 55, 66, 88, 96]\n",
    "    },\n",
    "    {\n",
    "        \"name\": \"Ashley Doe\",\n",
    "        \"age\": 38,\n",
    "        \"on_vacation\": False,\n",
    "        \"test_scores\": [98, 14, 25, 35, 69]\n",
    "    },\n",
    "    {\n",
    "        \"name\": \"Bull Smith\",\n",
    "        \"age\": 86,\n",
    "        \"on_vacation\": True,\n",
    "        \"test_scores\": [96, 75, 25, 36, 65]\n",
    "    }\n",
    "]"
   ]
  },
  {
   "cell_type": "code",
   "execution_count": 33,
   "id": "bd8cd192",
   "metadata": {},
   "outputs": [
    {
     "data": {
      "text/plain": [
       "619"
      ]
     },
     "execution_count": 33,
     "metadata": {},
     "output_type": "execute_result"
    }
   ],
   "source": [
    "import json # to convert dict to json string\n",
    "student_data_path.write_text(json.dumps(student_data, indent=4))"
   ]
  },
  {
   "cell_type": "code",
   "execution_count": 34,
   "id": "470cac65",
   "metadata": {},
   "outputs": [
    {
     "name": "stdout",
     "output_type": "stream",
     "text": [
      "[\n",
      "    {\n",
      "        \"name\": \"John Smith\",\n",
      "        \"age\": 38,\n",
      "        \"on_vacation\": false,\n",
      "        \"test_scores\": [\n",
      "            33,\n",
      "            55,\n",
      "            66,\n",
      "            88,\n",
      "            96\n",
      "        ]\n",
      "    },\n",
      "    {\n",
      "        \"name\": \"Ashley Doe\",\n",
      "        \"age\": 38,\n",
      "        \"on_vacation\": false,\n",
      "        \"test_scores\": [\n",
      "            98,\n",
      "            14,\n",
      "            25,\n",
      "            35,\n",
      "            69\n",
      "        ]\n",
      "    },\n",
      "    {\n",
      "        \"name\": \"Bull Smith\",\n",
      "        \"age\": 86,\n",
      "        \"on_vacation\": true,\n",
      "        \"test_scores\": [\n",
      "            96,\n",
      "            75,\n",
      "            25,\n",
      "            36,\n",
      "            65\n",
      "        ]\n",
      "    }\n",
      "]\n"
     ]
    }
   ],
   "source": [
    "print(student_data_path.read_text())"
   ]
  },
  {
   "cell_type": "markdown",
   "id": "a066f7e4",
   "metadata": {},
   "source": [
    "## Renaming files"
   ]
  },
  {
   "cell_type": "code",
   "execution_count": 35,
   "id": "bed3a154",
   "metadata": {},
   "outputs": [
    {
     "data": {
      "text/plain": [
       "WindowsPath('data/new_location.txt')"
      ]
     },
     "execution_count": 35,
     "metadata": {},
     "output_type": "execute_result"
    }
   ],
   "source": [
    "moved_file_location = student_data_path.parent.parent / 'new_location.txt'\n",
    "moved_file_location"
   ]
  },
  {
   "cell_type": "code",
   "execution_count": 36,
   "id": "a8807c79",
   "metadata": {},
   "outputs": [
    {
     "data": {
      "text/plain": [
       "False"
      ]
     },
     "execution_count": 36,
     "metadata": {},
     "output_type": "execute_result"
    }
   ],
   "source": [
    "moved_file_location.exists()"
   ]
  },
  {
   "cell_type": "code",
   "execution_count": 37,
   "id": "e47a5869",
   "metadata": {},
   "outputs": [],
   "source": [
    "# NO WARNING: if overwritng. So becareful\n",
    "if not moved_file_location.exists():\n",
    "    student_data_path.rename(moved_file_location)"
   ]
  },
  {
   "cell_type": "code",
   "execution_count": 38,
   "id": "eb20f1fa",
   "metadata": {},
   "outputs": [
    {
     "data": {
      "text/plain": [
       "True"
      ]
     },
     "execution_count": 38,
     "metadata": {},
     "output_type": "execute_result"
    }
   ],
   "source": [
    "moved_file_location.exists()"
   ]
  },
  {
   "cell_type": "markdown",
   "id": "d4875e73",
   "metadata": {},
   "source": [
    "## Deleting Dirs and Files"
   ]
  },
  {
   "cell_type": "code",
   "execution_count": 39,
   "id": "5cf77155",
   "metadata": {},
   "outputs": [],
   "source": [
    "# unlink - deletes a file. The missing_ok ensures no error if the file doesn't exist\n",
    "if student_data_path.exists():\n",
    "    student_data_path.unlink()\n",
    "if moved_file_location.exists():\n",
    "    moved_file_location.unlink()"
   ]
  },
  {
   "cell_type": "code",
   "execution_count": 40,
   "id": "e5592c7a",
   "metadata": {},
   "outputs": [
    {
     "ename": "OSError",
     "evalue": "[WinError 145] The directory is not empty: 'data\\\\student-data'",
     "output_type": "error",
     "traceback": [
      "\u001b[1;31m---------------------------------------------------------------------------\u001b[0m",
      "\u001b[1;31mOSError\u001b[0m                                   Traceback (most recent call last)",
      "\u001b[1;32m~\\AppData\\Local\\Temp\\ipykernel_12292\\4064132688.py\u001b[0m in \u001b[0;36m<module>\u001b[1;34m\u001b[0m\n\u001b[0;32m      1\u001b[0m \u001b[1;31m# Remove an empty directory\u001b[0m\u001b[1;33m\u001b[0m\u001b[1;33m\u001b[0m\u001b[0m\n\u001b[0;32m      2\u001b[0m \u001b[1;32mif\u001b[0m \u001b[0mstudent_data_folder\u001b[0m\u001b[1;33m.\u001b[0m\u001b[0mis_dir\u001b[0m\u001b[1;33m(\u001b[0m\u001b[1;33m)\u001b[0m\u001b[1;33m:\u001b[0m\u001b[1;33m\u001b[0m\u001b[1;33m\u001b[0m\u001b[0m\n\u001b[1;32m----> 3\u001b[1;33m     \u001b[0mstudent_data_folder\u001b[0m\u001b[1;33m.\u001b[0m\u001b[0mrmdir\u001b[0m\u001b[1;33m(\u001b[0m\u001b[1;33m)\u001b[0m\u001b[1;33m\u001b[0m\u001b[1;33m\u001b[0m\u001b[0m\n\u001b[0m\u001b[0;32m      4\u001b[0m \u001b[1;32mif\u001b[0m \u001b[0mstudent_data_folder\u001b[0m\u001b[1;33m.\u001b[0m\u001b[0mparent\u001b[0m\u001b[1;33m.\u001b[0m\u001b[0mis_dir\u001b[0m\u001b[1;33m(\u001b[0m\u001b[1;33m)\u001b[0m\u001b[1;33m:\u001b[0m\u001b[1;33m\u001b[0m\u001b[1;33m\u001b[0m\u001b[0m\n\u001b[0;32m      5\u001b[0m     \u001b[0mstudent_data_folder\u001b[0m\u001b[1;33m.\u001b[0m\u001b[0mparent\u001b[0m\u001b[1;33m.\u001b[0m\u001b[0mrmdir\u001b[0m\u001b[1;33m(\u001b[0m\u001b[1;33m)\u001b[0m\u001b[1;33m\u001b[0m\u001b[1;33m\u001b[0m\u001b[0m\n",
      "\u001b[1;32m~\\anaconda3\\lib\\pathlib.py\u001b[0m in \u001b[0;36mrmdir\u001b[1;34m(self)\u001b[0m\n\u001b[0;32m   1361\u001b[0m         \u001b[0mRemove\u001b[0m \u001b[0mthis\u001b[0m \u001b[0mdirectory\u001b[0m\u001b[1;33m.\u001b[0m  \u001b[0mThe\u001b[0m \u001b[0mdirectory\u001b[0m \u001b[0mmust\u001b[0m \u001b[0mbe\u001b[0m \u001b[0mempty\u001b[0m\u001b[1;33m.\u001b[0m\u001b[1;33m\u001b[0m\u001b[1;33m\u001b[0m\u001b[0m\n\u001b[0;32m   1362\u001b[0m         \"\"\"\n\u001b[1;32m-> 1363\u001b[1;33m         \u001b[0mself\u001b[0m\u001b[1;33m.\u001b[0m\u001b[0m_accessor\u001b[0m\u001b[1;33m.\u001b[0m\u001b[0mrmdir\u001b[0m\u001b[1;33m(\u001b[0m\u001b[0mself\u001b[0m\u001b[1;33m)\u001b[0m\u001b[1;33m\u001b[0m\u001b[1;33m\u001b[0m\u001b[0m\n\u001b[0m\u001b[0;32m   1364\u001b[0m \u001b[1;33m\u001b[0m\u001b[0m\n\u001b[0;32m   1365\u001b[0m     \u001b[1;32mdef\u001b[0m \u001b[0mlstat\u001b[0m\u001b[1;33m(\u001b[0m\u001b[0mself\u001b[0m\u001b[1;33m)\u001b[0m\u001b[1;33m:\u001b[0m\u001b[1;33m\u001b[0m\u001b[1;33m\u001b[0m\u001b[0m\n",
      "\u001b[1;31mOSError\u001b[0m: [WinError 145] The directory is not empty: 'data\\\\student-data'"
     ]
    }
   ],
   "source": [
    "# Remove an empty directory\n",
    "if student_data_folder.is_dir():\n",
    "    student_data_folder.rmdir()\n",
    "if student_data_folder.parent.is_dir():\n",
    "    student_data_folder.parent.rmdir()"
   ]
  },
  {
   "cell_type": "code",
   "execution_count": 41,
   "id": "0877c222",
   "metadata": {},
   "outputs": [
    {
     "data": {
      "text/plain": [
       "619"
      ]
     },
     "execution_count": 41,
     "metadata": {},
     "output_type": "execute_result"
    }
   ],
   "source": [
    "# Recreate the deleted because we still need them in this lesson\n",
    "student_data_folder.mkdir(parents=True, exist_ok=True)\n",
    "student_data_path.write_text(json.dumps(student_data, indent=4))"
   ]
  },
  {
   "cell_type": "markdown",
   "id": "c965b985",
   "metadata": {},
   "source": [
    "## iterating on a dir"
   ]
  },
  {
   "cell_type": "code",
   "execution_count": 42,
   "id": "148515b9",
   "metadata": {},
   "outputs": [
    {
     "data": {
      "text/plain": [
       "[WindowsPath('.ipynb_checkpoints'),\n",
       " WindowsPath('data'),\n",
       " WindowsPath('example.txt'),\n",
       " WindowsPath('file1.txt'),\n",
       " WindowsPath('file2.txt'),\n",
       " WindowsPath('standard_library.ipynb')]"
      ]
     },
     "execution_count": 42,
     "metadata": {},
     "output_type": "execute_result"
    }
   ],
   "source": [
    "list(cwd_path.iterdir())"
   ]
  },
  {
   "cell_type": "code",
   "execution_count": 43,
   "id": "557ca76d",
   "metadata": {},
   "outputs": [],
   "source": [
    "# we can do pattern matching using glob\n",
    "txt_path = [path for path in cwd_path.glob('**/*.txt')]"
   ]
  },
  {
   "cell_type": "code",
   "execution_count": 44,
   "id": "14b72671",
   "metadata": {},
   "outputs": [
    {
     "name": "stdout",
     "output_type": "stream",
     "text": [
      "example.txt\n",
      "file1.txt\n",
      "file2.txt\n",
      "data\\student-data\\file3.txt\n",
      "data\\student-data\\file4.txt\n"
     ]
    }
   ],
   "source": [
    "for i in txt_path:\n",
    "    print(i)"
   ]
  },
  {
   "cell_type": "markdown",
   "id": "55581fef",
   "metadata": {},
   "source": [
    "## Chalenge 1\n",
    "#### Code a function to replace the file endings of all .txt files to .md within the cwd"
   ]
  },
  {
   "cell_type": "code",
   "execution_count": 45,
   "id": "97bb1cfe",
   "metadata": {},
   "outputs": [],
   "source": [
    "def replace_all_txt_with_md():\n",
    "    '''Replace .txt suffix with .md in cwd'''\n",
    "    for file_path in Path.cwd().glob('**/*.md'):\n",
    "        print(file_path)\n",
    "        file_path.rename(file_path.with_suffix(\".md\"))\n",
    "        print(file_path)"
   ]
  },
  {
   "cell_type": "code",
   "execution_count": 46,
   "id": "786580c8",
   "metadata": {},
   "outputs": [],
   "source": [
    "# test the solution by\n",
    "# 1. writing .txt file\n",
    "# 2. running the function\n",
    "# 3. check if the file ending changed\n",
    "Path('example.txt').write_text('#Example')\n",
    "replace_all_txt_with_md()"
   ]
  },
  {
   "cell_type": "markdown",
   "id": "15364ff2",
   "metadata": {},
   "source": [
    "## datetime"
   ]
  },
  {
   "cell_type": "code",
   "execution_count": 47,
   "id": "01fe9e64",
   "metadata": {},
   "outputs": [],
   "source": [
    "import datetime"
   ]
  },
  {
   "cell_type": "markdown",
   "id": "4a156724",
   "metadata": {},
   "source": [
    "### date"
   ]
  },
  {
   "cell_type": "code",
   "execution_count": 48,
   "id": "96ab3df7",
   "metadata": {},
   "outputs": [
    {
     "data": {
      "text/plain": [
       "datetime.date(2022, 4, 24)"
      ]
     },
     "execution_count": 48,
     "metadata": {},
     "output_type": "execute_result"
    }
   ],
   "source": [
    "twenty_fourth_april = datetime.date(year=2022, month=4, day=24)\n",
    "twenty_fourth_april"
   ]
  },
  {
   "cell_type": "code",
   "execution_count": 49,
   "id": "607f32cc",
   "metadata": {},
   "outputs": [
    {
     "data": {
      "text/plain": [
       "datetime.date(2023, 8, 6)"
      ]
     },
     "execution_count": 49,
     "metadata": {},
     "output_type": "execute_result"
    }
   ],
   "source": [
    "today = datetime.date.today()\n",
    "today"
   ]
  },
  {
   "cell_type": "code",
   "execution_count": 50,
   "id": "6e289553",
   "metadata": {},
   "outputs": [
    {
     "data": {
      "text/plain": [
       "(6, 8, 2023)"
      ]
     },
     "execution_count": 50,
     "metadata": {},
     "output_type": "execute_result"
    }
   ],
   "source": [
    "today.day, today.month, today.year"
   ]
  },
  {
   "cell_type": "markdown",
   "id": "5ec78431",
   "metadata": {},
   "source": [
    "### time"
   ]
  },
  {
   "cell_type": "code",
   "execution_count": 51,
   "id": "a6a45eb8",
   "metadata": {},
   "outputs": [
    {
     "data": {
      "text/plain": [
       "datetime.time(16, 30, 0, 20)"
      ]
     },
     "execution_count": 51,
     "metadata": {},
     "output_type": "execute_result"
    }
   ],
   "source": [
    "four_thirty = datetime.time(hour=16, minute=30, second=0, microsecond=20)\n",
    "four_thirty"
   ]
  },
  {
   "cell_type": "markdown",
   "id": "9032817a",
   "metadata": {},
   "source": [
    "### datetime"
   ]
  },
  {
   "cell_type": "code",
   "execution_count": 52,
   "id": "dccbe77d",
   "metadata": {},
   "outputs": [
    {
     "data": {
      "text/plain": [
       "datetime.datetime(2022, 9, 16, 2, 30, 12, 123)"
      ]
     },
     "execution_count": 52,
     "metadata": {},
     "output_type": "execute_result"
    }
   ],
   "source": [
    "order_at = datetime.datetime(\n",
    "    year=2022,\n",
    "    month=9,\n",
    "    day=16,\n",
    "    hour=2,\n",
    "    minute=30,\n",
    "    second=12,\n",
    "    microsecond=123,\n",
    "    tzinfo=None\n",
    ")\n",
    "order_at"
   ]
  },
  {
   "cell_type": "code",
   "execution_count": 53,
   "id": "1534ead1",
   "metadata": {},
   "outputs": [
    {
     "data": {
      "text/plain": [
       "datetime.date(2022, 9, 16)"
      ]
     },
     "execution_count": 53,
     "metadata": {},
     "output_type": "execute_result"
    }
   ],
   "source": [
    "order_at.date()"
   ]
  },
  {
   "cell_type": "code",
   "execution_count": 54,
   "id": "824a60db",
   "metadata": {},
   "outputs": [
    {
     "data": {
      "text/plain": [
       "datetime.time(2, 30, 12, 123)"
      ]
     },
     "execution_count": 54,
     "metadata": {},
     "output_type": "execute_result"
    }
   ],
   "source": [
    "order_at.time()"
   ]
  },
  {
   "cell_type": "code",
   "execution_count": 55,
   "id": "73e6344f",
   "metadata": {},
   "outputs": [
    {
     "data": {
      "text/plain": [
       "datetime.datetime(2023, 8, 6, 13, 4, 30, 38374)"
      ]
     },
     "execution_count": 55,
     "metadata": {},
     "output_type": "execute_result"
    }
   ],
   "source": [
    "now = datetime.datetime.now()\n",
    "now"
   ]
  },
  {
   "cell_type": "markdown",
   "id": "5eb0df5f",
   "metadata": {},
   "source": [
    "### key methods"
   ]
  },
  {
   "cell_type": "code",
   "execution_count": 56,
   "id": "a41f0bdb",
   "metadata": {},
   "outputs": [
    {
     "data": {
      "text/plain": [
       "datetime.datetime(2023, 8, 6, 16, 30, 0, 20)"
      ]
     },
     "execution_count": 56,
     "metadata": {},
     "output_type": "execute_result"
    }
   ],
   "source": [
    "date_combined = datetime.datetime.combine(date=today, time=four_thirty)\n",
    "date_combined"
   ]
  },
  {
   "cell_type": "code",
   "execution_count": 57,
   "id": "70dc77a9",
   "metadata": {},
   "outputs": [
    {
     "data": {
      "text/plain": [
       "'2023-08-06 16:30:00.000020'"
      ]
     },
     "execution_count": 57,
     "metadata": {},
     "output_type": "execute_result"
    }
   ],
   "source": [
    "str(datetime.datetime.combine(date=today, time=four_thirty))"
   ]
  },
  {
   "cell_type": "markdown",
   "id": "27eaa064",
   "metadata": {},
   "source": [
    "### isoformat"
   ]
  },
  {
   "cell_type": "code",
   "execution_count": 58,
   "id": "36defb4d",
   "metadata": {},
   "outputs": [
    {
     "data": {
      "text/plain": [
       "'2023-08-06'"
      ]
     },
     "execution_count": 58,
     "metadata": {},
     "output_type": "execute_result"
    }
   ],
   "source": [
    "# returns a string in a standardised form ISO 8601 format\n",
    "today.isoformat()"
   ]
  },
  {
   "cell_type": "code",
   "execution_count": 59,
   "id": "0722b1a1",
   "metadata": {},
   "outputs": [
    {
     "data": {
      "text/plain": [
       "'2023-08-06T13:04:30.038374'"
      ]
     },
     "execution_count": 59,
     "metadata": {},
     "output_type": "execute_result"
    }
   ],
   "source": [
    "now.isoformat()"
   ]
  },
  {
   "cell_type": "code",
   "execution_count": 60,
   "id": "5feab68d",
   "metadata": {},
   "outputs": [
    {
     "data": {
      "text/plain": [
       "'2023-08-06T16:30:00.000020'"
      ]
     },
     "execution_count": 60,
     "metadata": {},
     "output_type": "execute_result"
    }
   ],
   "source": [
    "date_combined.isoformat()"
   ]
  },
  {
   "cell_type": "code",
   "execution_count": 61,
   "id": "f81ef34d",
   "metadata": {},
   "outputs": [
    {
     "data": {
      "text/plain": [
       "datetime.date(2022, 4, 2)"
      ]
     },
     "execution_count": 61,
     "metadata": {},
     "output_type": "execute_result"
    }
   ],
   "source": [
    "datetime.date.fromisoformat('2022-04-02')"
   ]
  },
  {
   "cell_type": "markdown",
   "id": "a0ce2e18",
   "metadata": {},
   "source": [
    "### more formats"
   ]
  },
  {
   "cell_type": "code",
   "execution_count": 62,
   "id": "962f7ced",
   "metadata": {},
   "outputs": [
    {
     "name": "stdout",
     "output_type": "stream",
     "text": [
      "now with format %a is Sun\n",
      "now with format %A is Sunday\n",
      "now with format %w is 0\n",
      "now with format %d is 06\n",
      "now with format %b is Aug\n",
      "now with format %B is August\n",
      "now with format %m is 08\n",
      "now with format %y is 23\n",
      "now with format %Y is 2023\n",
      "now with format %H is 13\n",
      "now with format %I is 01\n",
      "now with format %p is PM\n",
      "now with format %M is 04\n",
      "now with format %S is 30\n",
      "now with format %f is 038374\n",
      "now with format %z is \n",
      "now with format %j is 218\n",
      "now with format %U is 32\n",
      "now with format %W is 31\n",
      "now with format %c is Sun Aug  6 13:04:30 2023\n",
      "now with format %x is 08/06/23\n",
      "now with format %X is 13:04:30\n",
      "now with format %% is %\n"
     ]
    }
   ],
   "source": [
    "# differents formats with strftime\n",
    "for format_str in [\n",
    "    '%a', '%A', '%w', '%d', '%b', '%B',\n",
    "    '%m', '%y', '%Y', '%H', '%I', '%p',\n",
    "    '%M', '%S', '%f', '%z', '%j', '%U',\n",
    "    '%W', '%c', '%x', '%X', '%%',]:\n",
    "    print(f'now with format {format_str} is {now.strftime(format_str)}')"
   ]
  },
  {
   "cell_type": "code",
   "execution_count": 63,
   "id": "4e9cf3c2",
   "metadata": {},
   "outputs": [
    {
     "data": {
      "text/plain": [
       "datetime.datetime(2022, 4, 24, 17, 23, 54)"
      ]
     },
     "execution_count": 63,
     "metadata": {},
     "output_type": "execute_result"
    }
   ],
   "source": [
    "# if you can specify the format you can convert from str to datetime\n",
    "datetime.datetime.strptime('Sunday-24-April----17:23:54  2022', '%A-%d-%B----%X  %Y')"
   ]
  },
  {
   "cell_type": "markdown",
   "id": "e9f515f6",
   "metadata": {},
   "source": [
    "### replace"
   ]
  },
  {
   "cell_type": "code",
   "execution_count": 64,
   "id": "76d5649b",
   "metadata": {},
   "outputs": [
    {
     "data": {
      "text/plain": [
       "datetime.date(2022, 8, 6)"
      ]
     },
     "execution_count": 64,
     "metadata": {},
     "output_type": "execute_result"
    }
   ],
   "source": [
    "today.replace(year=today.year-1, month=8) # last year using replace"
   ]
  },
  {
   "cell_type": "code",
   "execution_count": 65,
   "id": "916b05d4",
   "metadata": {},
   "outputs": [
    {
     "data": {
      "text/plain": [
       "datetime.datetime(2023, 8, 6, 13, 4, 30, 38374)"
      ]
     },
     "execution_count": 65,
     "metadata": {},
     "output_type": "execute_result"
    }
   ],
   "source": [
    "now"
   ]
  },
  {
   "cell_type": "code",
   "execution_count": 66,
   "id": "1e59306e",
   "metadata": {},
   "outputs": [
    {
     "data": {
      "text/plain": [
       "datetime.datetime(2022, 2, 6, 13, 4, 30, 38374)"
      ]
     },
     "execution_count": 66,
     "metadata": {},
     "output_type": "execute_result"
    }
   ],
   "source": [
    "now.replace(year= 2022, month=2)"
   ]
  },
  {
   "cell_type": "markdown",
   "id": "066592d8",
   "metadata": {},
   "source": [
    "### timedelta"
   ]
  },
  {
   "cell_type": "code",
   "execution_count": 67,
   "id": "1b5bcffa",
   "metadata": {},
   "outputs": [],
   "source": [
    "delta = datetime.timedelta(\n",
    "    days=50,\n",
    "    seconds=27,\n",
    "    microseconds=10,\n",
    "    milliseconds=29000,\n",
    "    minutes=5,\n",
    "    hours=8,\n",
    "    weeks=2\n",
    ")"
   ]
  },
  {
   "cell_type": "code",
   "execution_count": 68,
   "id": "86a53704",
   "metadata": {},
   "outputs": [
    {
     "data": {
      "text/plain": [
       "datetime.timedelta(days=64, seconds=29156, microseconds=10)"
      ]
     },
     "execution_count": 68,
     "metadata": {},
     "output_type": "execute_result"
    }
   ],
   "source": [
    "delta # only days, seconds, and microseconds remain"
   ]
  },
  {
   "cell_type": "code",
   "execution_count": 69,
   "id": "5d41f4d1",
   "metadata": {},
   "outputs": [
    {
     "data": {
      "text/plain": [
       "datetime.timedelta(days=64)"
      ]
     },
     "execution_count": 69,
     "metadata": {},
     "output_type": "execute_result"
    }
   ],
   "source": [
    "datetime.timedelta(days=50, weeks=2)"
   ]
  },
  {
   "cell_type": "code",
   "execution_count": 70,
   "id": "ba801ee7",
   "metadata": {},
   "outputs": [
    {
     "data": {
      "text/plain": [
       "5558756.00001"
      ]
     },
     "execution_count": 70,
     "metadata": {},
     "output_type": "execute_result"
    }
   ],
   "source": [
    "delta.total_seconds()"
   ]
  },
  {
   "cell_type": "code",
   "execution_count": 71,
   "id": "19aa89de",
   "metadata": {},
   "outputs": [
    {
     "data": {
      "text/plain": [
       "(datetime.timedelta(days=365), datetime.timedelta(days=365))"
      ]
     },
     "execution_count": 71,
     "metadata": {},
     "output_type": "execute_result"
    }
   ],
   "source": [
    "year = datetime.timedelta(days=365)\n",
    "another_year = datetime.timedelta(weeks=40, days=84, hours=23,\n",
    "                                 minutes=50, seconds=600)\n",
    "another_year, year"
   ]
  },
  {
   "cell_type": "markdown",
   "id": "bb92bc8f",
   "metadata": {},
   "source": [
    "## Challenge 2\n",
    "#### Write a function days_until_next_birthday taking a month and a day and returning number of days untill next birthday"
   ]
  },
  {
   "cell_type": "code",
   "execution_count": 72,
   "id": "867fd2a1",
   "metadata": {},
   "outputs": [],
   "source": [
    "def days_untill_next_birthday(month:int, day:int) -> int:\n",
    "    today = datetime.date.today()\n",
    "    birthday = today.replace(month=month, day=day)\n",
    "    if birthday < today:\n",
    "        birthday = birthday.replace(year=birthday.year + 1)\n",
    "    return (birthday - today).days"
   ]
  },
  {
   "cell_type": "code",
   "execution_count": 73,
   "id": "cee0b7d0",
   "metadata": {},
   "outputs": [
    {
     "data": {
      "text/plain": [
       "330"
      ]
     },
     "execution_count": 73,
     "metadata": {},
     "output_type": "execute_result"
    }
   ],
   "source": [
    "days_untill_next_birthday(month=7, day=1)"
   ]
  },
  {
   "cell_type": "markdown",
   "id": "44c919aa",
   "metadata": {},
   "source": [
    "## collections"
   ]
  },
  {
   "cell_type": "markdown",
   "id": "f1bae508",
   "metadata": {},
   "source": [
    "<table>\n",
    "    <thead>\n",
    "        <tr>\n",
    "            <th>Name</th>\n",
    "            <th>Description</th>\n",
    "        </tr>\n",
    "    </thead>\n",
    "    <tbody>\n",
    "        <tr>\n",
    "            <td>namedtuple()</td>\n",
    "            <td>factory function for creating tuple subclasses with named fields</td>\n",
    "        </tr>\n",
    "        <tr>\n",
    "            <td>deque</td>\n",
    "            <td>list-like container with fast appends and pops on either end</td>\n",
    "        </tr>\n",
    "        <tr>\n",
    "            <td>ChainMap</td>\n",
    "            <td>dict-like class for creating a single view of multiple mappings</td>\n",
    "        </tr>\n",
    "        <tr>\n",
    "            <td>Counter</td>\n",
    "            <td>dict subclass for counting hashable objects</td>\n",
    "        </tr>\n",
    "        <tr>\n",
    "            <td>OrderedDict</td>\n",
    "            <td>dict subclass that remembers the order entries were added</td>\n",
    "        </tr>\n",
    "        <tr>\n",
    "            <td>defaultdict</td>\n",
    "            <td>dict subclass that calls a factory function to supply missing values</td>\n",
    "        </tr>\n",
    "        <tr>\n",
    "            <td>UserDict</td>\n",
    "            <td>wrapper around dictionary objects for easier dict subclassing</td>\n",
    "        </tr>\n",
    "        <tr>\n",
    "            <td>UserList</td>\n",
    "            <td>wrapper around list objects for easier list subclassing</td>\n",
    "        </tr>\n",
    "        <tr>\n",
    "            <td>UserString</td>\n",
    "            <td>wrapper around string objects fro easier string subclassing</td>\n",
    "        </tr>\n",
    "    </tbody>\n",
    "</table>"
   ]
  },
  {
   "cell_type": "code",
   "execution_count": 74,
   "id": "b7e7269d",
   "metadata": {},
   "outputs": [],
   "source": [
    "from collections import Counter\n",
    "from collections import deque\n",
    "from collections import defaultdict\n",
    "from collections import namedtuple"
   ]
  },
  {
   "cell_type": "markdown",
   "id": "295ceac8",
   "metadata": {},
   "source": [
    "### Counter\n",
    "#### A Counter is a dict subclass for counting hashable objects. It's a collection where elements are stored as dictionary key and their and their counts are stored as dictionary values "
   ]
  },
  {
   "cell_type": "code",
   "execution_count": 75,
   "id": "0775e13d",
   "metadata": {},
   "outputs": [
    {
     "data": {
      "text/plain": [
       "Counter({'m': 1, 'i': 4, 's': 3, 'p': 2})"
      ]
     },
     "execution_count": 75,
     "metadata": {},
     "output_type": "execute_result"
    }
   ],
   "source": [
    "# from a string(iterable)\n",
    "counter = Counter(\"misissippi\")\n",
    "counter"
   ]
  },
  {
   "cell_type": "code",
   "execution_count": 76,
   "id": "91031f7e",
   "metadata": {},
   "outputs": [
    {
     "data": {
      "text/plain": [
       "Counter({'cat': 2, 'dog': 2, 'gold fish': 1})"
      ]
     },
     "execution_count": 76,
     "metadata": {},
     "output_type": "execute_result"
    }
   ],
   "source": [
    "# from list\n",
    "animals = Counter([\"cat\", \"dog\", \"cat\", \"gold fish\", \"dog\"])\n",
    "animals"
   ]
  },
  {
   "cell_type": "code",
   "execution_count": 77,
   "id": "a2f112f9",
   "metadata": {},
   "outputs": [
    {
     "data": {
      "text/plain": [
       "Counter({'cat': 3, 'dog': 2, 'gold fish': 1})"
      ]
     },
     "execution_count": 77,
     "metadata": {},
     "output_type": "execute_result"
    }
   ],
   "source": [
    "# from dict\n",
    "counter = Counter({\"cat\": 3, \"dog\": 2, \"gold fish\": 1})\n",
    "counter"
   ]
  },
  {
   "cell_type": "code",
   "execution_count": 78,
   "id": "738892a4",
   "metadata": {},
   "outputs": [
    {
     "data": {
      "text/plain": [
       "0"
      ]
     },
     "execution_count": 78,
     "metadata": {},
     "output_type": "execute_result"
    }
   ],
   "source": [
    "# missing elements have 0\n",
    "counter[\"sharks\"]"
   ]
  },
  {
   "cell_type": "code",
   "execution_count": 79,
   "id": "58272f4c",
   "metadata": {},
   "outputs": [
    {
     "data": {
      "text/plain": [
       "['cat', 'cat', 'cat', 'dog', 'dog', 'gold fish']"
      ]
     },
     "execution_count": 79,
     "metadata": {},
     "output_type": "execute_result"
    }
   ],
   "source": [
    "# we can go back to the elements\n",
    "list(counter.elements())"
   ]
  },
  {
   "cell_type": "code",
   "execution_count": 80,
   "id": "793eef42",
   "metadata": {},
   "outputs": [
    {
     "data": {
      "text/plain": [
       "[('cat', 3), ('dog', 2)]"
      ]
     },
     "execution_count": 80,
     "metadata": {},
     "output_type": "execute_result"
    }
   ],
   "source": [
    "# finding the most common\n",
    "counter.most_common(2)"
   ]
  },
  {
   "cell_type": "code",
   "execution_count": 81,
   "id": "8bf8d822",
   "metadata": {},
   "outputs": [],
   "source": [
    "another_counter = Counter({\"cat\": 13, \"dog\": 22})"
   ]
  },
  {
   "cell_type": "code",
   "execution_count": 82,
   "id": "48264ff5",
   "metadata": {},
   "outputs": [
    {
     "data": {
      "text/plain": [
       "Counter({'cat': 16, 'dog': 24, 'gold fish': 1})"
      ]
     },
     "execution_count": 82,
     "metadata": {},
     "output_type": "execute_result"
    }
   ],
   "source": [
    "counter + another_counter"
   ]
  },
  {
   "cell_type": "code",
   "execution_count": 83,
   "id": "e8ed63bc",
   "metadata": {},
   "outputs": [
    {
     "data": {
      "text/plain": [
       "Counter({'cat': 3, 'dog': 2, 'gold fish': 1})"
      ]
     },
     "execution_count": 83,
     "metadata": {},
     "output_type": "execute_result"
    }
   ],
   "source": [
    "counter"
   ]
  },
  {
   "cell_type": "code",
   "execution_count": 84,
   "id": "778dba16",
   "metadata": {},
   "outputs": [],
   "source": [
    "# you can increment the values like so:\n",
    "counter[\"dog\"] += 1"
   ]
  },
  {
   "cell_type": "code",
   "execution_count": 85,
   "id": "cb55ddb4",
   "metadata": {},
   "outputs": [
    {
     "data": {
      "text/plain": [
       "Counter({'cat': 3, 'dog': 3, 'gold fish': 1})"
      ]
     },
     "execution_count": 85,
     "metadata": {},
     "output_type": "execute_result"
    }
   ],
   "source": [
    "counter"
   ]
  },
  {
   "cell_type": "markdown",
   "id": "4baf5c5d",
   "metadata": {},
   "source": [
    "### deque\n",
    "#### Deque support thread-safe, memory efficient appends and pops from either side of the deque with approximatelythe same O(1) performance in either direction"
   ]
  },
  {
   "cell_type": "code",
   "execution_count": 86,
   "id": "25b13c33",
   "metadata": {},
   "outputs": [],
   "source": [
    "example_deque = deque(range(5))"
   ]
  },
  {
   "cell_type": "code",
   "execution_count": 87,
   "id": "be9dcf7d",
   "metadata": {},
   "outputs": [
    {
     "data": {
      "text/plain": [
       "deque([0, 1, 2, 3, 4])"
      ]
     },
     "execution_count": 87,
     "metadata": {},
     "output_type": "execute_result"
    }
   ],
   "source": [
    "example_deque"
   ]
  },
  {
   "cell_type": "code",
   "execution_count": 88,
   "id": "c4f3a4aa",
   "metadata": {},
   "outputs": [
    {
     "data": {
      "text/plain": [
       "deque([-1, 0, 1, 2, 3, 4, 5])"
      ]
     },
     "execution_count": 88,
     "metadata": {},
     "output_type": "execute_result"
    }
   ],
   "source": [
    "example_deque.append(5)\n",
    "example_deque.appendleft(-1)\n",
    "example_deque"
   ]
  },
  {
   "cell_type": "code",
   "execution_count": 89,
   "id": "a5d857a1",
   "metadata": {},
   "outputs": [
    {
     "data": {
      "text/plain": [
       "collections.deque"
      ]
     },
     "execution_count": 89,
     "metadata": {},
     "output_type": "execute_result"
    }
   ],
   "source": [
    "type(example_deque)"
   ]
  },
  {
   "cell_type": "code",
   "execution_count": 90,
   "id": "de7fa361",
   "metadata": {},
   "outputs": [
    {
     "data": {
      "text/plain": [
       "deque([-4, -3, -2, -1, 0, 1, 2, 3, 4, 5, 6, 17, 8])"
      ]
     },
     "execution_count": 90,
     "metadata": {},
     "output_type": "execute_result"
    }
   ],
   "source": [
    "example_deque.extend([6, 17, 8])\n",
    "example_deque.extendleft([-2, -3, -4]) # note the ordering\n",
    "example_deque"
   ]
  },
  {
   "cell_type": "code",
   "execution_count": 91,
   "id": "0e3e3363",
   "metadata": {},
   "outputs": [
    {
     "data": {
      "text/plain": [
       "7"
      ]
     },
     "execution_count": 91,
     "metadata": {},
     "output_type": "execute_result"
    }
   ],
   "source": [
    "example_deque.index(3)"
   ]
  },
  {
   "cell_type": "code",
   "execution_count": 92,
   "id": "8659a14d",
   "metadata": {},
   "outputs": [],
   "source": [
    "# This is inplace\n",
    "# meaning the object is edited directly instead of creating a new reversed deque\n",
    "example_deque.reverse()"
   ]
  },
  {
   "cell_type": "code",
   "execution_count": 93,
   "id": "1baf6b0f",
   "metadata": {},
   "outputs": [
    {
     "data": {
      "text/plain": [
       "deque([8, 17, 6, 5, 4, 3, 2, 1, 0, -1, -2, -3, -4])"
      ]
     },
     "execution_count": 93,
     "metadata": {},
     "output_type": "execute_result"
    }
   ],
   "source": [
    "example_deque"
   ]
  },
  {
   "cell_type": "markdown",
   "id": "260916dd",
   "metadata": {},
   "source": [
    "### deque with maxlen"
   ]
  },
  {
   "cell_type": "code",
   "execution_count": 94,
   "id": "209f30e5",
   "metadata": {},
   "outputs": [
    {
     "data": {
      "text/plain": [
       "deque([0, 1, 2, 3, 4])"
      ]
     },
     "execution_count": 94,
     "metadata": {},
     "output_type": "execute_result"
    }
   ],
   "source": [
    "limited_deque = deque(range(5), maxlen=5)\n",
    "limited_deque"
   ]
  },
  {
   "cell_type": "code",
   "execution_count": 95,
   "id": "b434278b",
   "metadata": {},
   "outputs": [
    {
     "data": {
      "text/plain": [
       "deque([1, 2, 3, 4, 5])"
      ]
     },
     "execution_count": 95,
     "metadata": {},
     "output_type": "execute_result"
    }
   ],
   "source": [
    "# this will pushes off the 0\n",
    "limited_deque.append(5)\n",
    "limited_deque"
   ]
  },
  {
   "cell_type": "code",
   "execution_count": 96,
   "id": "8845295f",
   "metadata": {},
   "outputs": [
    {
     "data": {
      "text/plain": [
       "deque([0, 1, 2, 3, 4])"
      ]
     },
     "execution_count": 96,
     "metadata": {},
     "output_type": "execute_result"
    }
   ],
   "source": [
    "# this will pushes off the the 5 at the other end\n",
    "limited_deque.appendleft(0)\n",
    "limited_deque"
   ]
  },
  {
   "cell_type": "code",
   "execution_count": 97,
   "id": "1e346d72",
   "metadata": {},
   "outputs": [
    {
     "data": {
      "text/plain": [
       "deque([3, 4, 5, 6, 7])"
      ]
     },
     "execution_count": 97,
     "metadata": {},
     "output_type": "execute_result"
    }
   ],
   "source": [
    "limited_deque.extend([5, 6, 7])\n",
    "limited_deque"
   ]
  },
  {
   "cell_type": "code",
   "execution_count": 98,
   "id": "755a1a3a",
   "metadata": {},
   "outputs": [
    {
     "data": {
      "text/plain": [
       "deque([-7, -6, -5, 3, 4])"
      ]
     },
     "execution_count": 98,
     "metadata": {},
     "output_type": "execute_result"
    }
   ],
   "source": [
    "limited_deque.extendleft([-5, -6, -7])\n",
    "limited_deque"
   ]
  },
  {
   "cell_type": "code",
   "execution_count": 99,
   "id": "6901cab8",
   "metadata": {},
   "outputs": [
    {
     "data": {
      "text/plain": [
       "deque([3, 4, -7, -6, -5])"
      ]
     },
     "execution_count": 99,
     "metadata": {},
     "output_type": "execute_result"
    }
   ],
   "source": [
    "# this rotates elements n steps\n",
    "limited_deque.rotate(2)\n",
    "limited_deque"
   ]
  },
  {
   "cell_type": "code",
   "execution_count": 100,
   "id": "df195275",
   "metadata": {},
   "outputs": [
    {
     "data": {
      "text/plain": [
       "5"
      ]
     },
     "execution_count": 100,
     "metadata": {},
     "output_type": "execute_result"
    }
   ],
   "source": [
    "# we can access the maxlen\n",
    "limited_deque.maxlen"
   ]
  },
  {
   "cell_type": "code",
   "execution_count": 101,
   "id": "a38e553b",
   "metadata": {},
   "outputs": [
    {
     "data": {
      "text/plain": [
       "deque([])"
      ]
     },
     "execution_count": 101,
     "metadata": {},
     "output_type": "execute_result"
    }
   ],
   "source": [
    "# we can clear the deque\n",
    "limited_deque.clear()\n",
    "limited_deque"
   ]
  },
  {
   "cell_type": "code",
   "execution_count": 102,
   "id": "127bf295",
   "metadata": {},
   "outputs": [
    {
     "data": {
      "text/plain": [
       "deque([3, 4, 5])"
      ]
     },
     "execution_count": 102,
     "metadata": {},
     "output_type": "execute_result"
    }
   ],
   "source": [
    "# note if the iterable is longer than the maxlen, we only get the last n elements\n",
    "deque([1, 2, 3, 4, 5], maxlen=3)"
   ]
  },
  {
   "cell_type": "markdown",
   "id": "bb67e9eb",
   "metadata": {},
   "source": [
    "### defaultdict"
   ]
  },
  {
   "cell_type": "code",
   "execution_count": 105,
   "id": "1ac44ff7",
   "metadata": {},
   "outputs": [
    {
     "data": {
      "text/plain": [
       "'Imagine we want to take a sentence and store words in lists in a dictionary keyed on the letter that each word starts with'"
      ]
     },
     "execution_count": 105,
     "metadata": {},
     "output_type": "execute_result"
    }
   ],
   "source": [
    "sentence = (\n",
    "    \"Imagine we want to take a sentence and store words in lists in\"\n",
    "    \" a dictionary keyed on the letter that each word starts with\"\n",
    ")\n",
    "\n",
    "sentence"
   ]
  },
  {
   "cell_type": "code",
   "execution_count": 109,
   "id": "5166f066",
   "metadata": {},
   "outputs": [
    {
     "data": {
      "text/plain": [
       "{'I': ['Imagine'],\n",
       " 'w': ['we', 'want', 'words', 'word', 'with'],\n",
       " 't': ['to', 'take', 'the', 'that'],\n",
       " 'a': ['a', 'and', 'a'],\n",
       " 's': ['sentence', 'store', 'starts'],\n",
       " 'i': ['in', 'in'],\n",
       " 'l': ['lists', 'letter'],\n",
       " 'd': ['dictionary'],\n",
       " 'k': ['keyed'],\n",
       " 'o': ['on'],\n",
       " 'e': ['each']}"
      ]
     },
     "execution_count": 109,
     "metadata": {},
     "output_type": "execute_result"
    }
   ],
   "source": [
    "words_by_starting_letter = {}\n",
    "for word in sentence.split(\" \"):\n",
    "    if word[0] not in words_by_starting_letter:\n",
    "        words_by_starting_letter[word[0]] = [word]\n",
    "    else: # we know it's a list so append\n",
    "        words_by_starting_letter[word[0]].append(word)\n",
    "        \n",
    "words_by_starting_letter"
   ]
  },
  {
   "cell_type": "code",
   "execution_count": 118,
   "id": "f23d42f8",
   "metadata": {},
   "outputs": [
    {
     "data": {
      "text/plain": [
       "defaultdict(list,\n",
       "            {'I': ['Imagine'],\n",
       "             'w': ['we', 'want', 'words', 'word', 'with'],\n",
       "             't': ['to', 'take', 'the', 'that'],\n",
       "             'a': ['a', 'and', 'a'],\n",
       "             's': ['sentence', 'store', 'starts'],\n",
       "             'i': ['in', 'in'],\n",
       "             'l': ['lists', 'letter'],\n",
       "             'd': ['dictionary'],\n",
       "             'k': ['keyed'],\n",
       "             'o': ['on'],\n",
       "             'e': ['each']})"
      ]
     },
     "execution_count": 118,
     "metadata": {},
     "output_type": "execute_result"
    }
   ],
   "source": [
    "# using defaultdict to the same as above\n",
    "words_by_starting_letter = defaultdict(list)\n",
    "for word in sentence.split(\" \"):\n",
    "    words_by_starting_letter[word[0]].append(word)\n",
    "words_by_starting_letter"
   ]
  },
  {
   "cell_type": "code",
   "execution_count": 112,
   "id": "9abfa489",
   "metadata": {},
   "outputs": [
    {
     "data": {
      "text/plain": [
       "defaultdict(int, {'m': 1, 'i': 4, 's': 4, 'p': 2})"
      ]
     },
     "execution_count": 112,
     "metadata": {},
     "output_type": "execute_result"
    }
   ],
   "source": [
    "# An example from the official docs\n",
    "s = 'mississippi'\n",
    "letter_counts = defaultdict(int)\n",
    "for char in s:\n",
    "    letter_counts[char] += 1\n",
    "    \n",
    "letter_counts"
   ]
  },
  {
   "cell_type": "markdown",
   "id": "c4110ace",
   "metadata": {},
   "source": [
    "### named tuple"
   ]
  },
  {
   "cell_type": "markdown",
   "id": "dc123c51",
   "metadata": {},
   "source": [
    "#### named tuples assign meaning to each position in a tuple and allow for more readable, self dcoumenting code"
   ]
  },
  {
   "cell_type": "code",
   "execution_count": 119,
   "id": "25f6ef38",
   "metadata": {},
   "outputs": [
    {
     "data": {
      "text/plain": [
       "[{'name': 'John Smith',\n",
       "  'age': 38,\n",
       "  'on_vacation': False,\n",
       "  'test_scores': [33, 55, 66, 88, 96]},\n",
       " {'name': 'Ashley Doe',\n",
       "  'age': 38,\n",
       "  'on_vacation': False,\n",
       "  'test_scores': [98, 14, 25, 35, 69]},\n",
       " {'name': 'Bull Smith',\n",
       "  'age': 86,\n",
       "  'on_vacation': True,\n",
       "  'test_scores': [96, 75, 25, 36, 65]}]"
      ]
     },
     "execution_count": 119,
     "metadata": {},
     "output_type": "execute_result"
    }
   ],
   "source": [
    "student_data"
   ]
  },
  {
   "cell_type": "code",
   "execution_count": 120,
   "id": "fffb5abf",
   "metadata": {},
   "outputs": [],
   "source": [
    "student = ('Alpha Bravo-Delta', 30, True, [[100, 56, 87, 65, 89]])"
   ]
  },
  {
   "cell_type": "code",
   "execution_count": 125,
   "id": "827975ac",
   "metadata": {},
   "outputs": [],
   "source": [
    "def display_student(student):\n",
    "    print(f\"Student {student[0]} is {student[1]} years old and has test scores {student[3]}\")"
   ]
  },
  {
   "cell_type": "code",
   "execution_count": 126,
   "id": "4ed53f17",
   "metadata": {},
   "outputs": [
    {
     "name": "stdout",
     "output_type": "stream",
     "text": [
      "Student Alpha Bravo-Delta is 30 years old and has test scores [[100, 56, 87, 65, 89]]\n"
     ]
    }
   ],
   "source": [
    "display_student(student)"
   ]
  },
  {
   "cell_type": "code",
   "execution_count": 163,
   "id": "ba14ccf4",
   "metadata": {},
   "outputs": [],
   "source": [
    "# student_named_tuple = namedtuple(\"Student\", \"name age on_vacation test_scores\")\n",
    "\n",
    "# same declaration as abovd\n",
    "student_named_tuple = namedtuple(\"Student\", [\"name\", \"age\", \"on_vacation\", \"test_scores\"]) "
   ]
  },
  {
   "cell_type": "code",
   "execution_count": 164,
   "id": "bba848a3",
   "metadata": {},
   "outputs": [],
   "source": [
    "simon = student_named_tuple(\n",
    "    name = \"Charle X-Ray\",\n",
    "    age = 30,\n",
    "    on_vacation = True,\n",
    "    test_scores = [100, 56, 87, 65, 89]\n",
    ")"
   ]
  },
  {
   "cell_type": "code",
   "execution_count": 165,
   "id": "d8928ea0",
   "metadata": {},
   "outputs": [
    {
     "data": {
      "text/plain": [
       "True"
      ]
     },
     "execution_count": 165,
     "metadata": {},
     "output_type": "execute_result"
    }
   ],
   "source": [
    "simon[2]"
   ]
  },
  {
   "cell_type": "code",
   "execution_count": 166,
   "id": "be31fc6e",
   "metadata": {},
   "outputs": [
    {
     "data": {
      "text/plain": [
       "True"
      ]
     },
     "execution_count": 166,
     "metadata": {},
     "output_type": "execute_result"
    }
   ],
   "source": [
    "simon.on_vacation"
   ]
  },
  {
   "cell_type": "code",
   "execution_count": 167,
   "id": "3905d4eb",
   "metadata": {},
   "outputs": [],
   "source": [
    "# better implementation than above display_student()\n",
    "def display_student(student):\n",
    "    print(f\"Student {student.name} is {student.age} years old and has test scores {student.test_scores}\")"
   ]
  },
  {
   "cell_type": "code",
   "execution_count": 168,
   "id": "b046f71e",
   "metadata": {},
   "outputs": [
    {
     "name": "stdout",
     "output_type": "stream",
     "text": [
      "Student Charle X-Ray is 30 years old and has test scores [100, 56, 87, 65, 89]\n"
     ]
    }
   ],
   "source": [
    "display_student(simon)"
   ]
  },
  {
   "cell_type": "code",
   "execution_count": 169,
   "id": "9e645a83",
   "metadata": {},
   "outputs": [
    {
     "data": {
      "text/plain": [
       "Student(name='Charle X-Ray', age=31, on_vacation=True, test_scores=[100, 56, 87, 65, 89])"
      ]
     },
     "execution_count": 169,
     "metadata": {},
     "output_type": "execute_result"
    }
   ],
   "source": [
    "# we can change simon attributes by _replace\n",
    "older_simon = simon._replace(age=31)\n",
    "older_simon # new instance"
   ]
  },
  {
   "cell_type": "code",
   "execution_count": 170,
   "id": "d236fdb6",
   "metadata": {},
   "outputs": [
    {
     "data": {
      "text/plain": [
       "Student(name='Charle X-Ray', age=30, on_vacation=True, test_scores=[100, 56, 87, 65, 89])"
      ]
     },
     "execution_count": 170,
     "metadata": {},
     "output_type": "execute_result"
    }
   ],
   "source": [
    "simon"
   ]
  },
  {
   "cell_type": "code",
   "execution_count": 171,
   "id": "7249426a",
   "metadata": {},
   "outputs": [
    {
     "data": {
      "text/plain": [
       "__main__.Student"
      ]
     },
     "execution_count": 171,
     "metadata": {},
     "output_type": "execute_result"
    }
   ],
   "source": [
    "type(older_simon)"
   ]
  },
  {
   "cell_type": "code",
   "execution_count": 172,
   "id": "74de5a62",
   "metadata": {},
   "outputs": [
    {
     "data": {
      "text/plain": [
       "('name', 'age', 'on_vacation', 'test_scores')"
      ]
     },
     "execution_count": 172,
     "metadata": {},
     "output_type": "execute_result"
    }
   ],
   "source": [
    "simon._fields"
   ]
  },
  {
   "cell_type": "code",
   "execution_count": 173,
   "id": "36320e1b",
   "metadata": {},
   "outputs": [],
   "source": [
    "# we can also do the samething using the typing.NamedTuple\n",
    "from typing import NamedTuple, List\n",
    "class Student(NamedTuple):\n",
    "    name: str\n",
    "    age: int\n",
    "    on_vacation: bool\n",
    "    test_scores: List[int]"
   ]
  },
  {
   "cell_type": "code",
   "execution_count": 174,
   "id": "14f8cc75",
   "metadata": {},
   "outputs": [],
   "source": [
    "simon = Student(\n",
    "    name = \"Charle X-Ray\",\n",
    "    age = 30,\n",
    "    on_vacation = True,\n",
    "    test_scores = [100, 56, 87, 65, 89]\n",
    ")"
   ]
  },
  {
   "cell_type": "code",
   "execution_count": 175,
   "id": "1bab8245",
   "metadata": {},
   "outputs": [
    {
     "data": {
      "text/plain": [
       "Student(name='Charle X-Ray', age=30, on_vacation=True, test_scores=[100, 56, 87, 65, 89])"
      ]
     },
     "execution_count": 175,
     "metadata": {},
     "output_type": "execute_result"
    }
   ],
   "source": [
    "simon"
   ]
  },
  {
   "cell_type": "code",
   "execution_count": 176,
   "id": "35809912",
   "metadata": {},
   "outputs": [
    {
     "data": {
      "text/plain": [
       "[{'name': 'John Smith',\n",
       "  'age': 38,\n",
       "  'on_vacation': False,\n",
       "  'test_scores': [33, 55, 66, 88, 96]},\n",
       " {'name': 'Ashley Doe',\n",
       "  'age': 38,\n",
       "  'on_vacation': False,\n",
       "  'test_scores': [98, 14, 25, 35, 69]},\n",
       " {'name': 'Bull Smith',\n",
       "  'age': 86,\n",
       "  'on_vacation': True,\n",
       "  'test_scores': [96, 75, 25, 36, 65]}]"
      ]
     },
     "execution_count": 176,
     "metadata": {},
     "output_type": "execute_result"
    }
   ],
   "source": [
    "student_data"
   ]
  },
  {
   "cell_type": "code",
   "execution_count": 177,
   "id": "3c6c4c7e",
   "metadata": {},
   "outputs": [],
   "source": [
    "students = [Student._make(student.values()) for student in student_data]"
   ]
  },
  {
   "cell_type": "code",
   "execution_count": 178,
   "id": "9a44086f",
   "metadata": {},
   "outputs": [
    {
     "data": {
      "text/plain": [
       "[Student(name='John Smith', age=38, on_vacation=False, test_scores=[33, 55, 66, 88, 96]),\n",
       " Student(name='Ashley Doe', age=38, on_vacation=False, test_scores=[98, 14, 25, 35, 69]),\n",
       " Student(name='Bull Smith', age=86, on_vacation=True, test_scores=[96, 75, 25, 36, 65])]"
      ]
     },
     "execution_count": 178,
     "metadata": {},
     "output_type": "execute_result"
    }
   ],
   "source": [
    "students"
   ]
  },
  {
   "cell_type": "code",
   "execution_count": 291,
   "id": "2f0ebe32",
   "metadata": {},
   "outputs": [],
   "source": [
    "# CHallenge 3\n",
    "# Create a namedtuple called Point with an x and y attributes to represent points on a grid\n",
    "# Create a list with 100 random points x-values in 1,2,3 and y-values in 1, 2, 3\n",
    "# Find the most common point in the list\n",
    "from typing import NamedTuple\n",
    "import random\n",
    "\n",
    "class Point(NamedTuple):\n",
    "    x_value: int\n",
    "    y_value: int\n",
    "        \n",
    "\n",
    "# random_points = []\n",
    "# for i in range(500):\n",
    "#     random_point = Point(\n",
    "#     x_value= random.randint(0, 9),\n",
    "#     y_value= random.randint(0, 9)\n",
    "#     )\n",
    "#     random_points.append(random_point)\n",
    "random_points = [Point(random.randint(0, 9), random.randint(0, 9)) for _ in range(500)]\n",
    "# random_points"
   ]
  },
  {
   "cell_type": "code",
   "execution_count": 292,
   "id": "3f78b2f4",
   "metadata": {},
   "outputs": [],
   "source": [
    "# random_dict = {}\n",
    "# for i in random_points:\n",
    "#     if i not in random_dict:\n",
    "#         random_dict[i] = 1\n",
    "#     else:\n",
    "#         random_dict[i] += 1\n",
    "# random_dict"
   ]
  },
  {
   "cell_type": "code",
   "execution_count": 297,
   "id": "fccf74ac",
   "metadata": {},
   "outputs": [],
   "source": [
    "# random_dict\n",
    "# random_points"
   ]
  },
  {
   "cell_type": "code",
   "execution_count": 299,
   "id": "b7fc1092",
   "metadata": {},
   "outputs": [
    {
     "data": {
      "text/plain": [
       "Counter({Point(x_value=9, y_value=3): 8,\n",
       "         Point(x_value=2, y_value=3): 5,\n",
       "         Point(x_value=4, y_value=8): 3,\n",
       "         Point(x_value=3, y_value=4): 9,\n",
       "         Point(x_value=8, y_value=1): 3,\n",
       "         Point(x_value=7, y_value=4): 6,\n",
       "         Point(x_value=1, y_value=0): 6,\n",
       "         Point(x_value=3, y_value=5): 9,\n",
       "         Point(x_value=7, y_value=9): 10,\n",
       "         Point(x_value=6, y_value=6): 4,\n",
       "         Point(x_value=9, y_value=1): 3,\n",
       "         Point(x_value=5, y_value=4): 5,\n",
       "         Point(x_value=0, y_value=4): 7,\n",
       "         Point(x_value=3, y_value=7): 7,\n",
       "         Point(x_value=4, y_value=7): 6,\n",
       "         Point(x_value=1, y_value=9): 4,\n",
       "         Point(x_value=5, y_value=6): 8,\n",
       "         Point(x_value=7, y_value=8): 9,\n",
       "         Point(x_value=3, y_value=0): 6,\n",
       "         Point(x_value=1, y_value=5): 6,\n",
       "         Point(x_value=6, y_value=3): 3,\n",
       "         Point(x_value=0, y_value=6): 7,\n",
       "         Point(x_value=6, y_value=8): 3,\n",
       "         Point(x_value=7, y_value=2): 7,\n",
       "         Point(x_value=3, y_value=9): 4,\n",
       "         Point(x_value=7, y_value=5): 8,\n",
       "         Point(x_value=5, y_value=8): 7,\n",
       "         Point(x_value=0, y_value=7): 5,\n",
       "         Point(x_value=0, y_value=5): 7,\n",
       "         Point(x_value=4, y_value=6): 3,\n",
       "         Point(x_value=1, y_value=1): 15,\n",
       "         Point(x_value=7, y_value=6): 4,\n",
       "         Point(x_value=8, y_value=8): 6,\n",
       "         Point(x_value=3, y_value=8): 3,\n",
       "         Point(x_value=6, y_value=9): 4,\n",
       "         Point(x_value=5, y_value=9): 3,\n",
       "         Point(x_value=6, y_value=5): 6,\n",
       "         Point(x_value=4, y_value=1): 6,\n",
       "         Point(x_value=6, y_value=1): 3,\n",
       "         Point(x_value=9, y_value=4): 5,\n",
       "         Point(x_value=4, y_value=3): 7,\n",
       "         Point(x_value=8, y_value=7): 6,\n",
       "         Point(x_value=8, y_value=4): 5,\n",
       "         Point(x_value=2, y_value=5): 3,\n",
       "         Point(x_value=9, y_value=0): 9,\n",
       "         Point(x_value=5, y_value=3): 6,\n",
       "         Point(x_value=0, y_value=0): 7,\n",
       "         Point(x_value=2, y_value=4): 7,\n",
       "         Point(x_value=2, y_value=2): 7,\n",
       "         Point(x_value=6, y_value=4): 8,\n",
       "         Point(x_value=2, y_value=7): 4,\n",
       "         Point(x_value=4, y_value=4): 1,\n",
       "         Point(x_value=4, y_value=9): 3,\n",
       "         Point(x_value=1, y_value=3): 4,\n",
       "         Point(x_value=1, y_value=6): 7,\n",
       "         Point(x_value=0, y_value=9): 5,\n",
       "         Point(x_value=7, y_value=0): 6,\n",
       "         Point(x_value=3, y_value=3): 4,\n",
       "         Point(x_value=3, y_value=6): 6,\n",
       "         Point(x_value=0, y_value=3): 5,\n",
       "         Point(x_value=0, y_value=2): 3,\n",
       "         Point(x_value=6, y_value=0): 5,\n",
       "         Point(x_value=8, y_value=9): 4,\n",
       "         Point(x_value=8, y_value=2): 6,\n",
       "         Point(x_value=5, y_value=0): 10,\n",
       "         Point(x_value=5, y_value=7): 6,\n",
       "         Point(x_value=1, y_value=7): 3,\n",
       "         Point(x_value=9, y_value=6): 5,\n",
       "         Point(x_value=9, y_value=7): 2,\n",
       "         Point(x_value=7, y_value=1): 6,\n",
       "         Point(x_value=3, y_value=2): 4,\n",
       "         Point(x_value=2, y_value=0): 5,\n",
       "         Point(x_value=3, y_value=1): 7,\n",
       "         Point(x_value=2, y_value=6): 10,\n",
       "         Point(x_value=2, y_value=8): 4,\n",
       "         Point(x_value=8, y_value=0): 2,\n",
       "         Point(x_value=8, y_value=5): 3,\n",
       "         Point(x_value=7, y_value=7): 7,\n",
       "         Point(x_value=8, y_value=3): 5,\n",
       "         Point(x_value=4, y_value=5): 6,\n",
       "         Point(x_value=1, y_value=2): 4,\n",
       "         Point(x_value=9, y_value=2): 5,\n",
       "         Point(x_value=7, y_value=3): 3,\n",
       "         Point(x_value=2, y_value=9): 4,\n",
       "         Point(x_value=5, y_value=5): 3,\n",
       "         Point(x_value=9, y_value=9): 4,\n",
       "         Point(x_value=9, y_value=8): 1,\n",
       "         Point(x_value=1, y_value=8): 2,\n",
       "         Point(x_value=2, y_value=1): 1,\n",
       "         Point(x_value=0, y_value=8): 3,\n",
       "         Point(x_value=4, y_value=0): 3,\n",
       "         Point(x_value=6, y_value=2): 2,\n",
       "         Point(x_value=8, y_value=6): 4,\n",
       "         Point(x_value=4, y_value=2): 4,\n",
       "         Point(x_value=0, y_value=1): 2,\n",
       "         Point(x_value=9, y_value=5): 3,\n",
       "         Point(x_value=1, y_value=4): 4,\n",
       "         Point(x_value=5, y_value=1): 1,\n",
       "         Point(x_value=6, y_value=7): 1})"
      ]
     },
     "execution_count": 299,
     "metadata": {},
     "output_type": "execute_result"
    }
   ],
   "source": [
    "counter = Counter(random_points)\n",
    "counter"
   ]
  },
  {
   "cell_type": "code",
   "execution_count": 300,
   "id": "3f8f4a9e",
   "metadata": {},
   "outputs": [
    {
     "name": "stdout",
     "output_type": "stream",
     "text": [
      "The most common appears 15 times\n"
     ]
    },
    {
     "data": {
      "text/plain": [
       "Point(x_value=1, y_value=1)"
      ]
     },
     "execution_count": 300,
     "metadata": {},
     "output_type": "execute_result"
    }
   ],
   "source": [
    "# counter, count = Counter(random_dict).most_common(1)[0]\n",
    "counter, count = Counter(random_points).most_common(1)[0]\n",
    "print(f\"The most common appears {count} times\")\n",
    "counter"
   ]
  },
  {
   "cell_type": "markdown",
   "id": "e6521eb7",
   "metadata": {},
   "source": [
    "### itertools"
   ]
  },
  {
   "cell_type": "markdown",
   "id": "590520c2",
   "metadata": {},
   "source": [
    "#### This module implements a number of iterator building blocks!"
   ]
  },
  {
   "cell_type": "code",
   "execution_count": 304,
   "id": "b86d9bf0",
   "metadata": {},
   "outputs": [],
   "source": [
    "import itertools"
   ]
  },
  {
   "cell_type": "markdown",
   "id": "5b4b3b15",
   "metadata": {},
   "source": [
    "## Quick asside -> What is an iterable and what is an iterator and how a for loop works"
   ]
  },
  {
   "cell_type": "markdown",
   "id": "c8fad442",
   "metadata": {},
   "source": [
    "#### An iterator is an object that implements the iterator protocol. In other words, an iterator is an object that implements the following methods:\n",
    "#### \\__iter__  returns the iterator object itself\n",
    "#### \\__next__ returns the next element\n",
    "#### It means you can not use use the iterator object again.\n",
    "\n",
    "#### An itearable is an object that you can iterate over.\n",
    "#### An object is iterable when it implements the __iter__ method. And its __iter__ method returns a new iterator"
   ]
  },
  {
   "cell_type": "code",
   "execution_count": 306,
   "id": "ea4ba620",
   "metadata": {},
   "outputs": [],
   "source": [
    "# An iterator implements two very special functions\n",
    "# __iter__ -> must return an iterable\n",
    "# __next__ -> steps through iterator"
   ]
  },
  {
   "cell_type": "code",
   "execution_count": 307,
   "id": "85d25589",
   "metadata": {},
   "outputs": [
    {
     "data": {
      "text/plain": [
       "[{'name': 'John Smith',\n",
       "  'age': 38,\n",
       "  'on_vacation': False,\n",
       "  'test_scores': [33, 55, 66, 88, 96]},\n",
       " {'name': 'Ashley Doe',\n",
       "  'age': 38,\n",
       "  'on_vacation': False,\n",
       "  'test_scores': [98, 14, 25, 35, 69]},\n",
       " {'name': 'Bull Smith',\n",
       "  'age': 86,\n",
       "  'on_vacation': True,\n",
       "  'test_scores': [96, 75, 25, 36, 65]}]"
      ]
     },
     "execution_count": 307,
     "metadata": {},
     "output_type": "execute_result"
    }
   ],
   "source": [
    "student_data"
   ]
  },
  {
   "cell_type": "code",
   "execution_count": 308,
   "id": "20aca0bb",
   "metadata": {},
   "outputs": [
    {
     "data": {
      "text/plain": [
       "<method-wrapper '__iter__' of list object at 0x000002C3125A0F40>"
      ]
     },
     "execution_count": 308,
     "metadata": {},
     "output_type": "execute_result"
    }
   ],
   "source": [
    "student_data.__iter__"
   ]
  },
  {
   "cell_type": "code",
   "execution_count": 311,
   "id": "d47deb1e",
   "metadata": {},
   "outputs": [
    {
     "data": {
      "text/plain": [
       "<list_iterator at 0x2c31461e820>"
      ]
     },
     "execution_count": 311,
     "metadata": {},
     "output_type": "execute_result"
    }
   ],
   "source": [
    "student_data.__iter__()"
   ]
  },
  {
   "cell_type": "code",
   "execution_count": 312,
   "id": "2cd3daa4",
   "metadata": {},
   "outputs": [
    {
     "data": {
      "text/plain": [
       "<list_iterator at 0x2c31461e700>"
      ]
     },
     "execution_count": 312,
     "metadata": {},
     "output_type": "execute_result"
    }
   ],
   "source": [
    "iter(student_data)"
   ]
  },
  {
   "cell_type": "code",
   "execution_count": 313,
   "id": "98e1129e",
   "metadata": {},
   "outputs": [
    {
     "data": {
      "text/plain": [
       "<list_iterator at 0x2c31461e190>"
      ]
     },
     "execution_count": 313,
     "metadata": {},
     "output_type": "execute_result"
    }
   ],
   "source": [
    "student_data_iterator = iter(student_data)\n",
    "student_data_iterator"
   ]
  },
  {
   "cell_type": "code",
   "execution_count": 314,
   "id": "9c30b049",
   "metadata": {},
   "outputs": [
    {
     "data": {
      "text/plain": [
       "<method-wrapper '__next__' of list_iterator object at 0x000002C31461E190>"
      ]
     },
     "execution_count": 314,
     "metadata": {},
     "output_type": "execute_result"
    }
   ],
   "source": [
    "student_data_iterator.__next__"
   ]
  },
  {
   "cell_type": "code",
   "execution_count": 315,
   "id": "711d87cc",
   "metadata": {},
   "outputs": [
    {
     "data": {
      "text/plain": [
       "{'name': 'John Smith',\n",
       " 'age': 38,\n",
       " 'on_vacation': False,\n",
       " 'test_scores': [33, 55, 66, 88, 96]}"
      ]
     },
     "execution_count": 315,
     "metadata": {},
     "output_type": "execute_result"
    }
   ],
   "source": [
    "# call the next iterator\n",
    "student_data_iterator.__next__()"
   ]
  },
  {
   "cell_type": "code",
   "execution_count": 316,
   "id": "40c3af87",
   "metadata": {},
   "outputs": [
    {
     "data": {
      "text/plain": [
       "{'name': 'Ashley Doe',\n",
       " 'age': 38,\n",
       " 'on_vacation': False,\n",
       " 'test_scores': [98, 14, 25, 35, 69]}"
      ]
     },
     "execution_count": 316,
     "metadata": {},
     "output_type": "execute_result"
    }
   ],
   "source": [
    "# you can also call the next iterator with nex()\n",
    "next(student_data_iterator)"
   ]
  },
  {
   "cell_type": "code",
   "execution_count": 317,
   "id": "5d52c9dc",
   "metadata": {},
   "outputs": [
    {
     "data": {
      "text/plain": [
       "{'name': 'Bull Smith',\n",
       " 'age': 86,\n",
       " 'on_vacation': True,\n",
       " 'test_scores': [96, 75, 25, 36, 65]}"
      ]
     },
     "execution_count": 317,
     "metadata": {},
     "output_type": "execute_result"
    }
   ],
   "source": [
    "# you can also call the next iterator with nex()\n",
    "next(student_data_iterator)"
   ]
  },
  {
   "cell_type": "code",
   "execution_count": 319,
   "id": "2f1e43a4",
   "metadata": {},
   "outputs": [
    {
     "ename": "StopIteration",
     "evalue": "",
     "output_type": "error",
     "traceback": [
      "\u001b[1;31m---------------------------------------------------------------------------\u001b[0m",
      "\u001b[1;31mStopIteration\u001b[0m                             Traceback (most recent call last)",
      "\u001b[1;32m~\\AppData\\Local\\Temp\\ipykernel_12292\\518694370.py\u001b[0m in \u001b[0;36m<module>\u001b[1;34m\u001b[0m\n\u001b[0;32m      1\u001b[0m \u001b[1;31m# will throw error because it has finished iterating\u001b[0m\u001b[1;33m\u001b[0m\u001b[1;33m\u001b[0m\u001b[0m\n\u001b[1;32m----> 2\u001b[1;33m \u001b[0mnext\u001b[0m\u001b[1;33m(\u001b[0m\u001b[0mstudent_data_iterator\u001b[0m\u001b[1;33m)\u001b[0m\u001b[1;33m\u001b[0m\u001b[1;33m\u001b[0m\u001b[0m\n\u001b[0m",
      "\u001b[1;31mStopIteration\u001b[0m: "
     ]
    }
   ],
   "source": [
    "# will throw error because it has finished iterating\n",
    "next(student_data_iterator)"
   ]
  },
  {
   "cell_type": "code",
   "execution_count": 322,
   "id": "fdc05cfd",
   "metadata": {},
   "outputs": [
    {
     "name": "stdout",
     "output_type": "stream",
     "text": [
      "{'name': 'John Smith', 'age': 38, 'on_vacation': False, 'test_scores': [33, 55, 66, 88, 96]}\n",
      "{'name': 'Ashley Doe', 'age': 38, 'on_vacation': False, 'test_scores': [98, 14, 25, 35, 69]}\n",
      "{'name': 'Bull Smith', 'age': 86, 'on_vacation': True, 'test_scores': [96, 75, 25, 36, 65]}\n"
     ]
    }
   ],
   "source": [
    "# summary of for loop\n",
    "student_data_iterator = iter(student_data)\n",
    "while True:\n",
    "    try:\n",
    "        item = next(student_data_iterator)\n",
    "        # This is now the same as the for block\n",
    "        print(item)\n",
    "    except:\n",
    "        break"
   ]
  },
  {
   "cell_type": "markdown",
   "id": "b4851706",
   "metadata": {},
   "source": [
    "## itertools is fun"
   ]
  },
  {
   "cell_type": "markdown",
   "id": "fa308c43",
   "metadata": {},
   "source": [
    "### Chain"
   ]
  },
  {
   "cell_type": "code",
   "execution_count": 323,
   "id": "8dad70b9",
   "metadata": {},
   "outputs": [
    {
     "data": {
      "text/plain": [
       "<itertools.chain at 0x2c314638ee0>"
      ]
     },
     "execution_count": 323,
     "metadata": {},
     "output_type": "execute_result"
    }
   ],
   "source": [
    "itertools.chain(([1,2,3], [4,5,6], [7,8,9])) # note lazy"
   ]
  },
  {
   "cell_type": "code",
   "execution_count": 325,
   "id": "dbf9b38b",
   "metadata": {},
   "outputs": [
    {
     "name": "stdout",
     "output_type": "stream",
     "text": [
      "1\n",
      "2\n",
      "3\n",
      "4\n",
      "5\n",
      "6\n",
      "7\n",
      "8\n",
      "9\n"
     ]
    }
   ],
   "source": [
    "for i in itertools.chain([1,2,3], [4,5,6], [7,8,9]):\n",
    "    print(i)"
   ]
  },
  {
   "cell_type": "markdown",
   "id": "03b24cf3",
   "metadata": {},
   "source": [
    "### Chain from iterable"
   ]
  },
  {
   "cell_type": "code",
   "execution_count": 331,
   "id": "9fbf472d",
   "metadata": {},
   "outputs": [
    {
     "name": "stdout",
     "output_type": "stream",
     "text": [
      "1\n",
      "2\n",
      "3\n",
      "4\n",
      "5\n",
      "6\n",
      "7\n",
      "8\n",
      "9\n"
     ]
    }
   ],
   "source": [
    "# iterable from iterables\n",
    "for i in itertools.chain.from_iterable([[1,2,3], [4,5,6], [7,8,9]]):\n",
    "    print(i)"
   ]
  },
  {
   "cell_type": "markdown",
   "id": "e9c28e2b",
   "metadata": {},
   "source": [
    "### Count"
   ]
  },
  {
   "cell_type": "code",
   "execution_count": 332,
   "id": "993fb1cf",
   "metadata": {},
   "outputs": [
    {
     "name": "stdout",
     "output_type": "stream",
     "text": [
      "n = 1\n",
      "n = 2\n",
      "n = 3\n",
      "n = 4\n",
      "n = 5\n"
     ]
    }
   ],
   "source": [
    "# similar to range but when you don't how many you want\n",
    "for n in itertools.count(start=1, step=1):\n",
    "    print(f\"n = {n}\")\n",
    "    if n==5:\n",
    "        break"
   ]
  },
  {
   "cell_type": "code",
   "execution_count": 333,
   "id": "75a0d117",
   "metadata": {},
   "outputs": [
    {
     "name": "stdout",
     "output_type": "stream",
     "text": [
      "n = 1\n",
      "n = 2\n",
      "n = 3\n",
      "n = 4\n",
      "n = 5\n"
     ]
    }
   ],
   "source": [
    "# less code than this\n",
    "n = 1\n",
    "while n < 6:\n",
    "    print(f\"n = {n}\")\n",
    "    if n == 5:\n",
    "        break\n",
    "    n += 1"
   ]
  },
  {
   "cell_type": "markdown",
   "id": "cfff8117",
   "metadata": {},
   "source": [
    "### Combinations"
   ]
  },
  {
   "cell_type": "code",
   "execution_count": 335,
   "id": "933a5303",
   "metadata": {},
   "outputs": [
    {
     "data": {
      "text/plain": [
       "[(1, 2), (1, 3), (1, 4), (2, 3), (2, 4), (3, 4)]"
      ]
     },
     "execution_count": 335,
     "metadata": {},
     "output_type": "execute_result"
    }
   ],
   "source": [
    "list(itertools.combinations([1,2,3,4], 2))"
   ]
  },
  {
   "cell_type": "code",
   "execution_count": 336,
   "id": "7e6773b1",
   "metadata": {},
   "outputs": [
    {
     "data": {
      "text/plain": [
       "[(1, 1),\n",
       " (1, 2),\n",
       " (1, 3),\n",
       " (1, 4),\n",
       " (2, 2),\n",
       " (2, 3),\n",
       " (2, 4),\n",
       " (3, 3),\n",
       " (3, 4),\n",
       " (4, 4)]"
      ]
     },
     "execution_count": 336,
     "metadata": {},
     "output_type": "execute_result"
    }
   ],
   "source": [
    "list(itertools.combinations_with_replacement([1,2,3,4],2))"
   ]
  },
  {
   "cell_type": "markdown",
   "id": "38fe41c2",
   "metadata": {},
   "source": [
    "### Cycle"
   ]
  },
  {
   "cell_type": "code",
   "execution_count": 337,
   "id": "fdd6c7fe",
   "metadata": {},
   "outputs": [],
   "source": [
    "# itertools.cycle(['A', 'B', 'C']) -> 'A', 'B', 'C', 'A', 'B', 'C', 'A', ..."
   ]
  },
  {
   "cell_type": "code",
   "execution_count": 344,
   "id": "b8816a9c",
   "metadata": {},
   "outputs": [],
   "source": [
    "import random\n",
    "def player_move(player):\n",
    "    if random.randint(1, 4) == 1:\n",
    "        print(f\"Player {player} moved and won!\")\n",
    "        return True\n",
    "    else:\n",
    "        print(f\"Player {player} moved!\")\n",
    "        return False"
   ]
  },
  {
   "cell_type": "code",
   "execution_count": 345,
   "id": "8d415871",
   "metadata": {},
   "outputs": [
    {
     "name": "stdout",
     "output_type": "stream",
     "text": [
      "Player A moved!\n",
      "Player B moved!\n",
      "Player A moved!\n",
      "Player B moved and won!\n"
     ]
    }
   ],
   "source": [
    "for player in itertools.cycle([\"A\", \"B\"]):\n",
    "    if player_move(player):\n",
    "        break"
   ]
  },
  {
   "cell_type": "markdown",
   "id": "7877f1d0",
   "metadata": {},
   "source": [
    "### Groupby"
   ]
  },
  {
   "cell_type": "code",
   "execution_count": 346,
   "id": "5882f211",
   "metadata": {},
   "outputs": [
    {
     "data": {
      "text/plain": [
       "[('M', <itertools._grouper at 0x2c3146388b0>),\n",
       " ('I', <itertools._grouper at 0x2c314638340>),\n",
       " ('S', <itertools._grouper at 0x2c314638d00>),\n",
       " ('I', <itertools._grouper at 0x2c314638280>),\n",
       " ('S', <itertools._grouper at 0x2c314638be0>),\n",
       " ('I', <itertools._grouper at 0x2c314638cd0>),\n",
       " ('P', <itertools._grouper at 0x2c314638160>),\n",
       " ('I', <itertools._grouper at 0x2c314638ca0>)]"
      ]
     },
     "execution_count": 346,
     "metadata": {},
     "output_type": "execute_result"
    }
   ],
   "source": [
    "list(itertools.groupby(\"MISSISSIPPI\"))"
   ]
  },
  {
   "cell_type": "code",
   "execution_count": 347,
   "id": "fb7e784f",
   "metadata": {},
   "outputs": [
    {
     "name": "stdout",
     "output_type": "stream",
     "text": [
      "A group of M with ['M']\n",
      "A group of I with ['I']\n",
      "A group of S with ['S', 'S']\n",
      "A group of I with ['I']\n",
      "A group of S with ['S', 'S']\n",
      "A group of I with ['I']\n",
      "A group of P with ['P', 'P']\n",
      "A group of I with ['I']\n"
     ]
    }
   ],
   "source": [
    "for key, group in itertools.groupby(\"MISSISSIPPI\"):\n",
    "    print(f\"A group of {key} with {list(group)}\")"
   ]
  },
  {
   "cell_type": "markdown",
   "id": "37468399",
   "metadata": {},
   "source": [
    "### islice"
   ]
  },
  {
   "cell_type": "code",
   "execution_count": 348,
   "id": "c6ea2b75",
   "metadata": {},
   "outputs": [
    {
     "data": {
      "text/plain": [
       "[2, 4]"
      ]
     },
     "execution_count": 348,
     "metadata": {},
     "output_type": "execute_result"
    }
   ],
   "source": [
    "list(itertools.islice([1,2,3,4,5], 1, None, 2))"
   ]
  },
  {
   "cell_type": "code",
   "execution_count": 356,
   "id": "e5a3de6d",
   "metadata": {},
   "outputs": [],
   "source": [
    "long_list = list(range(1_000_000))"
   ]
  },
  {
   "cell_type": "code",
   "execution_count": 357,
   "id": "98ad3d54",
   "metadata": {},
   "outputs": [],
   "source": [
    "import sys\n",
    "\n",
    "def convert_bytes(size):\n",
    "    for x in ['bytes', 'KB', 'MB', 'GB', 'TB']:\n",
    "        if size < 1024.0:\n",
    "            return \"%3.1f %s\" % (size, x)\n",
    "        size /= 1024.0\n",
    "    return size"
   ]
  },
  {
   "cell_type": "code",
   "execution_count": 359,
   "id": "7c2f5266",
   "metadata": {},
   "outputs": [
    {
     "data": {
      "text/plain": [
       "'7.6 MB'"
      ]
     },
     "execution_count": 359,
     "metadata": {},
     "output_type": "execute_result"
    }
   ],
   "source": [
    "convert_bytes(sys.getsizeof(long_list))"
   ]
  },
  {
   "cell_type": "code",
   "execution_count": 361,
   "id": "4e2f25cf",
   "metadata": {},
   "outputs": [
    {
     "data": {
      "text/plain": [
       "'3.8 MB'"
      ]
     },
     "execution_count": 361,
     "metadata": {},
     "output_type": "execute_result"
    }
   ],
   "source": [
    "convert_bytes(sys.getsizeof(long_list[::2]))"
   ]
  },
  {
   "cell_type": "code",
   "execution_count": null,
   "id": "d46b35ce",
   "metadata": {},
   "outputs": [],
   "source": []
  }
 ],
 "metadata": {
  "kernelspec": {
   "display_name": "Python 3 (ipykernel)",
   "language": "python",
   "name": "python3"
  },
  "language_info": {
   "codemirror_mode": {
    "name": "ipython",
    "version": 3
   },
   "file_extension": ".py",
   "mimetype": "text/x-python",
   "name": "python",
   "nbconvert_exporter": "python",
   "pygments_lexer": "ipython3",
   "version": "3.9.13"
  }
 },
 "nbformat": 4,
 "nbformat_minor": 5
}
