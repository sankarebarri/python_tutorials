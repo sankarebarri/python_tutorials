{
 "cells": [
  {
   "cell_type": "markdown",
   "id": "ecb1bae4",
   "metadata": {},
   "source": [
    "## Introducing the Path class"
   ]
  },
  {
   "cell_type": "code",
   "execution_count": 25,
   "id": "59d4cdfd",
   "metadata": {},
   "outputs": [],
   "source": [
    "from pathlib import Path"
   ]
  },
  {
   "cell_type": "code",
   "execution_count": 2,
   "id": "ee2b3c99",
   "metadata": {},
   "outputs": [
    {
     "data": {
      "text/plain": [
       "WindowsPath('.')"
      ]
     },
     "execution_count": 2,
     "metadata": {},
     "output_type": "execute_result"
    }
   ],
   "source": [
    "cwd_path = Path('.')\n",
    "cwd_path"
   ]
  },
  {
   "cell_type": "code",
   "execution_count": 3,
   "id": "25802ce6",
   "metadata": {},
   "outputs": [
    {
     "data": {
      "text/plain": [
       "WindowsPath('C:/Users/sanka/Desktop/ADN_PAYSANS/python_tutorials/python_standard_library')"
      ]
     },
     "execution_count": 3,
     "metadata": {},
     "output_type": "execute_result"
    }
   ],
   "source": [
    "cwd_path.absolute()"
   ]
  },
  {
   "cell_type": "code",
   "execution_count": 4,
   "id": "f357edef",
   "metadata": {},
   "outputs": [
    {
     "data": {
      "text/plain": [
       "WindowsPath('C:/Users/sanka/Desktop/ADN_PAYSANS/python_tutorials/python_standard_library')"
      ]
     },
     "execution_count": 4,
     "metadata": {},
     "output_type": "execute_result"
    }
   ],
   "source": [
    "Path.cwd()"
   ]
  },
  {
   "cell_type": "markdown",
   "id": "0e50dad9",
   "metadata": {},
   "source": [
    "## Building paths"
   ]
  },
  {
   "cell_type": "code",
   "execution_count": 5,
   "id": "f1500716",
   "metadata": {},
   "outputs": [
    {
     "data": {
      "text/plain": [
       "WindowsPath('data/student-data')"
      ]
     },
     "execution_count": 5,
     "metadata": {},
     "output_type": "execute_result"
    }
   ],
   "source": [
    "student_folder = cwd_path.joinpath('data').joinpath('student-data')\n",
    "student_folder"
   ]
  },
  {
   "cell_type": "code",
   "execution_count": 6,
   "id": "8586a3a6",
   "metadata": {},
   "outputs": [
    {
     "data": {
      "text/plain": [
       "WindowsPath('data/student-data')"
      ]
     },
     "execution_count": 6,
     "metadata": {},
     "output_type": "execute_result"
    }
   ],
   "source": [
    "# same uisng / operator\n",
    "student_folder = cwd_path / 'data' / 'student-data'\n",
    "\n",
    "# same using string\n",
    "student_folder = Path('./data/student-data')\n",
    "student_folder"
   ]
  },
  {
   "cell_type": "code",
   "execution_count": 7,
   "id": "3636f147",
   "metadata": {},
   "outputs": [],
   "source": [
    "student_data_path = student_folder / 'data.json'"
   ]
  },
  {
   "cell_type": "code",
   "execution_count": 8,
   "id": "e11dda24",
   "metadata": {},
   "outputs": [
    {
     "data": {
      "text/plain": [
       "WindowsPath('data/student-data/data.json')"
      ]
     },
     "execution_count": 8,
     "metadata": {},
     "output_type": "execute_result"
    }
   ],
   "source": [
    "student_data_path"
   ]
  },
  {
   "cell_type": "markdown",
   "id": "6e3468c8",
   "metadata": {},
   "source": [
    "## File parts and parents"
   ]
  },
  {
   "cell_type": "code",
   "execution_count": 9,
   "id": "26c31666",
   "metadata": {},
   "outputs": [
    {
     "data": {
      "text/plain": [
       "'data.json'"
      ]
     },
     "execution_count": 9,
     "metadata": {},
     "output_type": "execute_result"
    }
   ],
   "source": [
    "student_data_path.name"
   ]
  },
  {
   "cell_type": "code",
   "execution_count": 10,
   "id": "d8955dbc",
   "metadata": {},
   "outputs": [
    {
     "data": {
      "text/plain": [
       "'data'"
      ]
     },
     "execution_count": 10,
     "metadata": {},
     "output_type": "execute_result"
    }
   ],
   "source": [
    "student_data_path.stem"
   ]
  },
  {
   "cell_type": "code",
   "execution_count": 11,
   "id": "2d7f9974",
   "metadata": {},
   "outputs": [
    {
     "data": {
      "text/plain": [
       "'.json'"
      ]
     },
     "execution_count": 11,
     "metadata": {},
     "output_type": "execute_result"
    }
   ],
   "source": [
    "student_data_path.suffix"
   ]
  },
  {
   "cell_type": "code",
   "execution_count": 12,
   "id": "23833906",
   "metadata": {},
   "outputs": [
    {
     "data": {
      "text/plain": [
       "('data', 'student-data', 'data.json')"
      ]
     },
     "execution_count": 12,
     "metadata": {},
     "output_type": "execute_result"
    }
   ],
   "source": [
    "student_data_path.parts"
   ]
  },
  {
   "cell_type": "code",
   "execution_count": 13,
   "id": "23a1f50e",
   "metadata": {},
   "outputs": [
    {
     "name": "stdout",
     "output_type": "stream",
     "text": [
      "data\\student-data\\data.json\n"
     ]
    }
   ],
   "source": [
    "print(student_data_path)"
   ]
  },
  {
   "cell_type": "code",
   "execution_count": 14,
   "id": "b4c7e4c8",
   "metadata": {},
   "outputs": [
    {
     "data": {
      "text/plain": [
       "WindowsPath('C:/Users/sanka/Desktop/ADN_PAYSANS/python_tutorials/python_standard_library/data/student-data/data.json')"
      ]
     },
     "execution_count": 14,
     "metadata": {},
     "output_type": "execute_result"
    }
   ],
   "source": [
    "student_data_path.absolute()"
   ]
  },
  {
   "cell_type": "code",
   "execution_count": 15,
   "id": "2a4a4289",
   "metadata": {},
   "outputs": [
    {
     "name": "stdout",
     "output_type": "stream",
     "text": [
      "C:\\Users\\sanka\\Desktop\\ADN_PAYSANS\\python_tutorials\\python_standard_library\\data\\student-data\\data.json\n"
     ]
    }
   ],
   "source": [
    "print(student_data_path.absolute())"
   ]
  },
  {
   "cell_type": "code",
   "execution_count": 21,
   "id": "64bd9a44",
   "metadata": {},
   "outputs": [
    {
     "data": {
      "text/plain": [
       "WindowsPath('data/student-data')"
      ]
     },
     "execution_count": 21,
     "metadata": {},
     "output_type": "execute_result"
    }
   ],
   "source": [
    "student_data_path.parent"
   ]
  },
  {
   "cell_type": "code",
   "execution_count": 22,
   "id": "01c9d1e3",
   "metadata": {},
   "outputs": [
    {
     "data": {
      "text/plain": [
       "WindowsPath('data')"
      ]
     },
     "execution_count": 22,
     "metadata": {},
     "output_type": "execute_result"
    }
   ],
   "source": [
    "# As the parent returns a Path instance\n",
    "# we can call parent on that too\n",
    "student_data_path.parent.parent"
   ]
  },
  {
   "cell_type": "code",
   "execution_count": 23,
   "id": "e45c4a34",
   "metadata": {},
   "outputs": [
    {
     "data": {
      "text/plain": [
       "WindowsPath('.')"
      ]
     },
     "execution_count": 23,
     "metadata": {},
     "output_type": "execute_result"
    }
   ],
   "source": [
    "student_data_path.parent.parent.parent"
   ]
  },
  {
   "cell_type": "code",
   "execution_count": 26,
   "id": "428b4a27",
   "metadata": {},
   "outputs": [
    {
     "data": {
      "text/plain": [
       "WindowsPath('.')"
      ]
     },
     "execution_count": 26,
     "metadata": {},
     "output_type": "execute_result"
    }
   ],
   "source": [
    "student_data_path.parent.parent.parent.parent"
   ]
  },
  {
   "cell_type": "markdown",
   "id": "43fc3fc8",
   "metadata": {},
   "source": [
    "## Changing the name, stem or file extension"
   ]
  },
  {
   "cell_type": "code",
   "execution_count": 27,
   "id": "80bb2244",
   "metadata": {},
   "outputs": [
    {
     "data": {
      "text/plain": [
       "WindowsPath('data/student-data/data.json')"
      ]
     },
     "execution_count": 27,
     "metadata": {},
     "output_type": "execute_result"
    }
   ],
   "source": [
    "student_data_path"
   ]
  },
  {
   "cell_type": "code",
   "execution_count": 28,
   "id": "283ca18c",
   "metadata": {},
   "outputs": [
    {
     "data": {
      "text/plain": [
       "WindowsPath('data/student-data/data.py')"
      ]
     },
     "execution_count": 28,
     "metadata": {},
     "output_type": "execute_result"
    }
   ],
   "source": [
    "# replace .json with .py\n",
    "student_data_path.with_suffix('.py')"
   ]
  },
  {
   "cell_type": "code",
   "execution_count": 30,
   "id": "52b8c659",
   "metadata": {},
   "outputs": [
    {
     "data": {
      "text/plain": [
       "WindowsPath('data/student-data/student_data.txt')"
      ]
     },
     "execution_count": 30,
     "metadata": {},
     "output_type": "execute_result"
    }
   ],
   "source": [
    "# replace data.py with student_data.txt\n",
    "student_data_path.with_name('student_data.txt')"
   ]
  },
  {
   "cell_type": "code",
   "execution_count": 32,
   "id": "46b8b648",
   "metadata": {},
   "outputs": [
    {
     "data": {
      "text/plain": [
       "WindowsPath('data/student-data/numbers.xlsx')"
      ]
     },
     "execution_count": 32,
     "metadata": {},
     "output_type": "execute_result"
    }
   ],
   "source": [
    "# we can chain calls\n",
    "student_data_path.with_name('numbers').with_suffix('.xlsx')"
   ]
  },
  {
   "cell_type": "markdown",
   "id": "e13752ce",
   "metadata": {},
   "source": [
    "## Interacting with the files, reading, writing, and renaming"
   ]
  },
  {
   "cell_type": "code",
   "execution_count": 33,
   "id": "77496b81",
   "metadata": {},
   "outputs": [
    {
     "data": {
      "text/plain": [
       "False"
      ]
     },
     "execution_count": 33,
     "metadata": {},
     "output_type": "execute_result"
    }
   ],
   "source": [
    "student_data_path.exists()"
   ]
  },
  {
   "cell_type": "code",
   "execution_count": 34,
   "id": "46c3c9fe",
   "metadata": {},
   "outputs": [
    {
     "data": {
      "text/plain": [
       "(False, False)"
      ]
     },
     "execution_count": 34,
     "metadata": {},
     "output_type": "execute_result"
    }
   ],
   "source": [
    "# is_file checks if this path exists and is a file\n",
    "# is_dir checks if this path exists and is a directory\n",
    "student_data_path.is_file(), student_data_path.is_dir()"
   ]
  },
  {
   "cell_type": "code",
   "execution_count": 35,
   "id": "52dfe8cd",
   "metadata": {},
   "outputs": [
    {
     "data": {
      "text/plain": [
       "WindowsPath('data/student-data')"
      ]
     },
     "execution_count": 35,
     "metadata": {},
     "output_type": "execute_result"
    }
   ],
   "source": [
    "student_data_folder = student_data_path.parent\n",
    "student_data_folder"
   ]
  },
  {
   "cell_type": "code",
   "execution_count": 36,
   "id": "79b78c5d",
   "metadata": {},
   "outputs": [
    {
     "data": {
      "text/plain": [
       "False"
      ]
     },
     "execution_count": 36,
     "metadata": {},
     "output_type": "execute_result"
    }
   ],
   "source": [
    "student_data_folder.exists()"
   ]
  },
  {
   "cell_type": "code",
   "execution_count": 38,
   "id": "da05c873",
   "metadata": {},
   "outputs": [
    {
     "ename": "FileNotFoundError",
     "evalue": "[WinError 3] The system cannot find the path specified: 'data\\\\student-data'",
     "output_type": "error",
     "traceback": [
      "\u001b[1;31m---------------------------------------------------------------------------\u001b[0m",
      "\u001b[1;31mFileNotFoundError\u001b[0m                         Traceback (most recent call last)",
      "\u001b[1;32m~\\AppData\\Local\\Temp\\ipykernel_6304\\2347645944.py\u001b[0m in \u001b[0;36m<module>\u001b[1;34m\u001b[0m\n\u001b[0;32m      1\u001b[0m \u001b[1;31m# this will throw an error because student_data_folder doesn't exist\u001b[0m\u001b[1;33m\u001b[0m\u001b[1;33m\u001b[0m\u001b[0m\n\u001b[1;32m----> 2\u001b[1;33m \u001b[0mstudent_data_folder\u001b[0m\u001b[1;33m.\u001b[0m\u001b[0mmkdir\u001b[0m\u001b[1;33m(\u001b[0m\u001b[1;33m)\u001b[0m\u001b[1;33m\u001b[0m\u001b[1;33m\u001b[0m\u001b[0m\n\u001b[0m",
      "\u001b[1;32m~\\anaconda3\\lib\\pathlib.py\u001b[0m in \u001b[0;36mmkdir\u001b[1;34m(self, mode, parents, exist_ok)\u001b[0m\n\u001b[0;32m   1321\u001b[0m         \"\"\"\n\u001b[0;32m   1322\u001b[0m         \u001b[1;32mtry\u001b[0m\u001b[1;33m:\u001b[0m\u001b[1;33m\u001b[0m\u001b[1;33m\u001b[0m\u001b[0m\n\u001b[1;32m-> 1323\u001b[1;33m             \u001b[0mself\u001b[0m\u001b[1;33m.\u001b[0m\u001b[0m_accessor\u001b[0m\u001b[1;33m.\u001b[0m\u001b[0mmkdir\u001b[0m\u001b[1;33m(\u001b[0m\u001b[0mself\u001b[0m\u001b[1;33m,\u001b[0m \u001b[0mmode\u001b[0m\u001b[1;33m)\u001b[0m\u001b[1;33m\u001b[0m\u001b[1;33m\u001b[0m\u001b[0m\n\u001b[0m\u001b[0;32m   1324\u001b[0m         \u001b[1;32mexcept\u001b[0m \u001b[0mFileNotFoundError\u001b[0m\u001b[1;33m:\u001b[0m\u001b[1;33m\u001b[0m\u001b[1;33m\u001b[0m\u001b[0m\n\u001b[0;32m   1325\u001b[0m             \u001b[1;32mif\u001b[0m \u001b[1;32mnot\u001b[0m \u001b[0mparents\u001b[0m \u001b[1;32mor\u001b[0m \u001b[0mself\u001b[0m\u001b[1;33m.\u001b[0m\u001b[0mparent\u001b[0m \u001b[1;33m==\u001b[0m \u001b[0mself\u001b[0m\u001b[1;33m:\u001b[0m\u001b[1;33m\u001b[0m\u001b[1;33m\u001b[0m\u001b[0m\n",
      "\u001b[1;31mFileNotFoundError\u001b[0m: [WinError 3] The system cannot find the path specified: 'data\\\\student-data'"
     ]
    }
   ],
   "source": [
    "# this will throw an error because student_data_folder doesn't exist\n",
    "student_data_folder.mkdir()"
   ]
  },
  {
   "cell_type": "code",
   "execution_count": 42,
   "id": "f79182ee",
   "metadata": {},
   "outputs": [],
   "source": [
    "# parents=True will make parents if it doesn't exists\n",
    "# exists_ok = True will not fail if the folder already exists\n",
    "student_data_folder.mkdir(parents=True, exist_ok=True)"
   ]
  },
  {
   "cell_type": "code",
   "execution_count": 43,
   "id": "9617b599",
   "metadata": {},
   "outputs": [
    {
     "data": {
      "text/plain": [
       "True"
      ]
     },
     "execution_count": 43,
     "metadata": {},
     "output_type": "execute_result"
    }
   ],
   "source": [
    "student_data_folder.exists()"
   ]
  },
  {
   "cell_type": "code",
   "execution_count": 44,
   "id": "2e7bd5e9",
   "metadata": {},
   "outputs": [
    {
     "data": {
      "text/plain": [
       "False"
      ]
     },
     "execution_count": 44,
     "metadata": {},
     "output_type": "execute_result"
    }
   ],
   "source": [
    "student_data_path.exists()"
   ]
  },
  {
   "cell_type": "code",
   "execution_count": 45,
   "id": "60f14e0a",
   "metadata": {},
   "outputs": [],
   "source": [
    "student_data = [\n",
    "    \n",
    "]"
   ]
  },
  {
   "cell_type": "code",
   "execution_count": 47,
   "id": "1570d597",
   "metadata": {},
   "outputs": [
    {
     "data": {
      "text/plain": [
       "619"
      ]
     },
     "execution_count": 47,
     "metadata": {},
     "output_type": "execute_result"
    }
   ],
   "source": [
    "import json # to convert dict to json string\n",
    "student_data_path.write_text(json.dumps(student_data, indent=4))"
   ]
  },
  {
   "cell_type": "code",
   "execution_count": 48,
   "id": "d1320fcb",
   "metadata": {},
   "outputs": [
    {
     "name": "stdout",
     "output_type": "stream",
     "text": [
      "[\n",
      "    {\n",
      "        \"name\": \"John Smith\",\n",
      "        \"age\": 38,\n",
      "        \"on_vacation\": false,\n",
      "        \"test_scores\": [\n",
      "            33,\n",
      "            55,\n",
      "            66,\n",
      "            88,\n",
      "            96\n",
      "        ]\n",
      "    },\n",
      "    {\n",
      "        \"name\": \"Ashley Doe\",\n",
      "        \"age\": 38,\n",
      "        \"on_vacation\": false,\n",
      "        \"test_scores\": [\n",
      "            98,\n",
      "            14,\n",
      "            25,\n",
      "            35,\n",
      "            69\n",
      "        ]\n",
      "    },\n",
      "    {\n",
      "        \"name\": \"Bull Smith\",\n",
      "        \"age\": 86,\n",
      "        \"on_vacation\": true,\n",
      "        \"test_scores\": [\n",
      "            96,\n",
      "            75,\n",
      "            25,\n",
      "            36,\n",
      "            65\n",
      "        ]\n",
      "    }\n",
      "]\n"
     ]
    }
   ],
   "source": [
    "print(student_data_path.read_text())"
   ]
  },
  {
   "cell_type": "code",
   "execution_count": null,
   "id": "6f5c7815",
   "metadata": {},
   "outputs": [],
   "source": []
  }
 ],
 "metadata": {
  "kernelspec": {
   "display_name": "Python 3 (ipykernel)",
   "language": "python",
   "name": "python3"
  },
  "language_info": {
   "codemirror_mode": {
    "name": "ipython",
    "version": 3
   },
   "file_extension": ".py",
   "mimetype": "text/x-python",
   "name": "python",
   "nbconvert_exporter": "python",
   "pygments_lexer": "ipython3",
   "version": "3.9.13"
  }
 },
 "nbformat": 4,
 "nbformat_minor": 5
}
